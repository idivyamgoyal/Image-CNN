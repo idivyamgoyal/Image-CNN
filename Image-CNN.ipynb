{
 "cells": [
  {
   "cell_type": "code",
   "execution_count": 1,
   "metadata": {},
   "outputs": [
    {
     "name": "stdout",
     "output_type": "stream",
     "text": [
      "['lib', 'input', 'share', 'etc', 'files', 'include', 'bin']\n",
      "['natural_images']\n",
      "['dog', 'person', 'fruit', 'flower', 'car', 'airplane', 'motorbike', 'cat']\n"
     ]
    }
   ],
   "source": [
    "import os\n",
    "print(os.listdir('../'))\n",
    "print(os.listdir('../input'))\n",
    "print(os.listdir('../input/natural_images/'))"
   ]
  },
  {
   "cell_type": "markdown",
   "metadata": {},
   "source": [
    "## Defining important values to be used"
   ]
  },
  {
   "cell_type": "code",
   "execution_count": 2,
   "metadata": {},
   "outputs": [],
   "source": [
    "#batch_size\n",
    "batchSize = 50\n",
    "\n",
    "#epochs\n",
    "epochSize = 50\n",
    "\n",
    "#image_dimensions\n",
    "dim1 = dim2 = 256"
   ]
  },
  {
   "cell_type": "code",
   "execution_count": 3,
   "metadata": {},
   "outputs": [
    {
     "name": "stderr",
     "output_type": "stream",
     "text": [
      "Using TensorFlow backend.\n"
     ]
    }
   ],
   "source": [
    "#importing Keras and other required features\n",
    "import keras\n",
    "from keras.models import Sequential\n",
    "from keras.layers import Convolution2D\n",
    "from keras.layers import MaxPooling2D\n",
    "from keras.layers import Flatten\n",
    "from keras.layers import Dense\n",
    "from keras.layers import Dropout"
   ]
  },
  {
   "cell_type": "markdown",
   "metadata": {},
   "source": [
    "# Setting-Up Neural Network Layers"
   ]
  },
  {
   "cell_type": "code",
   "execution_count": 4,
   "metadata": {},
   "outputs": [
    {
     "name": "stderr",
     "output_type": "stream",
     "text": [
      "WARNING: Logging before flag parsing goes to stderr.\n",
      "W0706 19:39:26.305251 139797364959040 deprecation_wrapper.py:119] From /home/divyam/Desktop/Image-CNN/lib/python3.6/site-packages/keras/backend/tensorflow_backend.py:74: The name tf.get_default_graph is deprecated. Please use tf.compat.v1.get_default_graph instead.\n",
      "\n",
      "W0706 19:39:26.555507 139797364959040 deprecation_wrapper.py:119] From /home/divyam/Desktop/Image-CNN/lib/python3.6/site-packages/keras/backend/tensorflow_backend.py:517: The name tf.placeholder is deprecated. Please use tf.compat.v1.placeholder instead.\n",
      "\n",
      "W0706 19:39:26.637474 139797364959040 deprecation_wrapper.py:119] From /home/divyam/Desktop/Image-CNN/lib/python3.6/site-packages/keras/backend/tensorflow_backend.py:4138: The name tf.random_uniform is deprecated. Please use tf.random.uniform instead.\n",
      "\n",
      "W0706 19:39:26.733722 139797364959040 deprecation_wrapper.py:119] From /home/divyam/Desktop/Image-CNN/lib/python3.6/site-packages/keras/backend/tensorflow_backend.py:3976: The name tf.nn.max_pool is deprecated. Please use tf.nn.max_pool2d instead.\n",
      "\n"
     ]
    }
   ],
   "source": [
    "#initializing Sequential Model\n",
    "model = Sequential()\n",
    "\n",
    "#Adding 1st CNN layer\n",
    "model.add(Convolution2D(32, (3,3), activation='relu', input_shape=(dim1, dim2, 3)))\n",
    "\n",
    "#Adding 1st MaxPool Layer\n",
    "model.add(MaxPooling2D(pool_size=(2, 2)))\n",
    "\n",
    "#Adding other layers\n",
    "model.add(Convolution2D(64, (3,3), activation='relu'))\n",
    "model.add(MaxPooling2D(pool_size=(2, 2)))\n",
    "\n",
    "model.add(Convolution2D(128, (3,3), activation='relu'))\n",
    "model.add(MaxPooling2D(pool_size=(2, 2)))\n",
    "\n",
    "#Flattening into Single 1D List\n",
    "model.add(Flatten())"
   ]
  },
  {
   "cell_type": "code",
   "execution_count": 5,
   "metadata": {},
   "outputs": [
    {
     "name": "stderr",
     "output_type": "stream",
     "text": [
      "W0706 19:39:28.363542 139797364959040 deprecation_wrapper.py:119] From /home/divyam/Desktop/Image-CNN/lib/python3.6/site-packages/keras/backend/tensorflow_backend.py:133: The name tf.placeholder_with_default is deprecated. Please use tf.compat.v1.placeholder_with_default instead.\n",
      "\n",
      "W0706 19:39:28.372215 139797364959040 deprecation.py:506] From /home/divyam/Desktop/Image-CNN/lib/python3.6/site-packages/keras/backend/tensorflow_backend.py:3445: calling dropout (from tensorflow.python.ops.nn_ops) with keep_prob is deprecated and will be removed in a future version.\n",
      "Instructions for updating:\n",
      "Please use `rate` instead of `keep_prob`. Rate should be set to `rate = 1 - keep_prob`.\n"
     ]
    },
    {
     "name": "stdout",
     "output_type": "stream",
     "text": [
      "_________________________________________________________________\n",
      "Layer (type)                 Output Shape              Param #   \n",
      "=================================================================\n",
      "conv2d_1 (Conv2D)            (None, 254, 254, 32)      896       \n",
      "_________________________________________________________________\n",
      "max_pooling2d_1 (MaxPooling2 (None, 127, 127, 32)      0         \n",
      "_________________________________________________________________\n",
      "conv2d_2 (Conv2D)            (None, 125, 125, 64)      18496     \n",
      "_________________________________________________________________\n",
      "max_pooling2d_2 (MaxPooling2 (None, 62, 62, 64)        0         \n",
      "_________________________________________________________________\n",
      "conv2d_3 (Conv2D)            (None, 60, 60, 128)       73856     \n",
      "_________________________________________________________________\n",
      "max_pooling2d_3 (MaxPooling2 (None, 30, 30, 128)       0         \n",
      "_________________________________________________________________\n",
      "flatten_1 (Flatten)          (None, 115200)            0         \n",
      "_________________________________________________________________\n",
      "dense_1 (Dense)              (None, 256)               29491456  \n",
      "_________________________________________________________________\n",
      "dropout_1 (Dropout)          (None, 256)               0         \n",
      "_________________________________________________________________\n",
      "dense_2 (Dense)              (None, 512)               131584    \n",
      "_________________________________________________________________\n",
      "dropout_2 (Dropout)          (None, 512)               0         \n",
      "_________________________________________________________________\n",
      "dense_3 (Dense)              (None, 256)               131328    \n",
      "_________________________________________________________________\n",
      "dropout_3 (Dropout)          (None, 256)               0         \n",
      "_________________________________________________________________\n",
      "dense_4 (Dense)              (None, 8)                 2056      \n",
      "=================================================================\n",
      "Total params: 29,849,672\n",
      "Trainable params: 29,849,672\n",
      "Non-trainable params: 0\n",
      "_________________________________________________________________\n"
     ]
    }
   ],
   "source": [
    "#hidden layers\n",
    "model.add(Dense(256, activation='relu'))\n",
    "model.add(Dropout(rate=0.4))\n",
    "model.add(Dense(512, activation='relu'))\n",
    "model.add(Dropout(rate=0.3))\n",
    "model.add(Dense(256, activation='relu'))\n",
    "model.add(Dropout(rate=0.2))\n",
    "\n",
    "#final output layer\n",
    "model.add(Dense(8, activation='softmax'))\n",
    "\n",
    "#model summary\n",
    "model.summary()"
   ]
  },
  {
   "cell_type": "code",
   "execution_count": 6,
   "metadata": {},
   "outputs": [
    {
     "name": "stderr",
     "output_type": "stream",
     "text": [
      "W0706 19:39:42.404978 139797364959040 deprecation_wrapper.py:119] From /home/divyam/Desktop/Image-CNN/lib/python3.6/site-packages/keras/optimizers.py:790: The name tf.train.Optimizer is deprecated. Please use tf.compat.v1.train.Optimizer instead.\n",
      "\n",
      "W0706 19:39:42.433992 139797364959040 deprecation_wrapper.py:119] From /home/divyam/Desktop/Image-CNN/lib/python3.6/site-packages/keras/backend/tensorflow_backend.py:3295: The name tf.log is deprecated. Please use tf.math.log instead.\n",
      "\n"
     ]
    }
   ],
   "source": [
    "model.compile(optimizer='sgd', loss='categorical_crossentropy', metrics=['accuracy'])"
   ]
  },
  {
   "cell_type": "markdown",
   "metadata": {},
   "source": [
    "# Image Preprocessing and Model-Training"
   ]
  },
  {
   "cell_type": "code",
   "execution_count": 7,
   "metadata": {},
   "outputs": [],
   "source": [
    "# importing modules\n",
    "from keras.preprocessing.image import ImageDataGenerator"
   ]
  },
  {
   "cell_type": "code",
   "execution_count": 8,
   "metadata": {},
   "outputs": [],
   "source": [
    "img_data_generator = ImageDataGenerator(\n",
    "        rescale=1./255,\n",
    "        shear_range=0.2,\n",
    "        zoom_range=0.2,\n",
    "        horizontal_flip=True,\n",
    "        validation_split=0.2\n",
    ")"
   ]
  },
  {
   "cell_type": "code",
   "execution_count": 9,
   "metadata": {},
   "outputs": [
    {
     "name": "stdout",
     "output_type": "stream",
     "text": [
      "Found 5522 images belonging to 8 classes.\n",
      "Found 1377 images belonging to 8 classes.\n"
     ]
    }
   ],
   "source": [
    "train_generator = img_data_generator.flow_from_directory(\n",
    "        '../input/natural_images/',\n",
    "        target_size=(dim1, dim2),\n",
    "        batch_size=batchSize,\n",
    "        subset='training'\n",
    ")\n",
    "\n",
    "validation_generator = img_data_generator.flow_from_directory(\n",
    "        '../input/natural_images/',\n",
    "        target_size=(dim1, dim2),\n",
    "        batch_size=batchSize,\n",
    "        subset='validation'\n",
    ")"
   ]
  },
  {
   "cell_type": "markdown",
   "metadata": {},
   "source": [
    "### INDICES"
   ]
  },
  {
   "cell_type": "code",
   "execution_count": 10,
   "metadata": {},
   "outputs": [
    {
     "data": {
      "text/plain": [
       "{'airplane': 0,\n",
       " 'car': 1,\n",
       " 'cat': 2,\n",
       " 'dog': 3,\n",
       " 'flower': 4,\n",
       " 'fruit': 5,\n",
       " 'motorbike': 6,\n",
       " 'person': 7}"
      ]
     },
     "execution_count": 10,
     "metadata": {},
     "output_type": "execute_result"
    }
   ],
   "source": [
    "train_generator.class_indices"
   ]
  },
  {
   "cell_type": "code",
   "execution_count": 11,
   "metadata": {
    "scrolled": false
   },
   "outputs": [
    {
     "name": "stderr",
     "output_type": "stream",
     "text": [
      "W0706 19:39:54.456237 139797364959040 deprecation.py:323] From /home/divyam/Desktop/Image-CNN/lib/python3.6/site-packages/tensorflow/python/ops/math_grad.py:1250: add_dispatch_support.<locals>.wrapper (from tensorflow.python.ops.array_ops) is deprecated and will be removed in a future version.\n",
      "Instructions for updating:\n",
      "Use tf.where in 2.0, which has the same broadcast rule as np.where\n"
     ]
    },
    {
     "name": "stdout",
     "output_type": "stream",
     "text": [
      "Epoch 1/50\n",
      "111/110 [==============================] - 336s 3s/step - loss: 1.9690 - acc: 0.2353 - val_loss: 1.7191 - val_acc: 0.3972\n",
      "Epoch 2/50\n",
      "111/110 [==============================] - 328s 3s/step - loss: 1.6359 - acc: 0.4009 - val_loss: 1.4858 - val_acc: 0.4815\n",
      "Epoch 3/50\n",
      "111/110 [==============================] - 324s 3s/step - loss: 1.4103 - acc: 0.4894 - val_loss: 1.3261 - val_acc: 0.5802\n",
      "Epoch 4/50\n",
      "111/110 [==============================] - 334s 3s/step - loss: 1.2052 - acc: 0.5739 - val_loss: 1.0636 - val_acc: 0.6442\n",
      "Epoch 5/50\n",
      "111/110 [==============================] - 322s 3s/step - loss: 1.0620 - acc: 0.6167 - val_loss: 0.9168 - val_acc: 0.6805\n",
      "Epoch 6/50\n",
      "111/110 [==============================] - 315s 3s/step - loss: 0.9503 - acc: 0.6577 - val_loss: 1.0666 - val_acc: 0.6187\n",
      "Epoch 7/50\n",
      "111/110 [==============================] - 317s 3s/step - loss: 0.8371 - acc: 0.6943 - val_loss: 0.8786 - val_acc: 0.6855\n",
      "Epoch 8/50\n",
      "111/110 [==============================] - 313s 3s/step - loss: 0.7824 - acc: 0.7185 - val_loss: 0.6913 - val_acc: 0.7487\n",
      "Epoch 9/50\n",
      "111/110 [==============================] - 309s 3s/step - loss: 0.7073 - acc: 0.7511 - val_loss: 0.6944 - val_acc: 0.7451\n",
      "Epoch 10/50\n",
      "111/110 [==============================] - 310s 3s/step - loss: 0.6424 - acc: 0.7625 - val_loss: 0.8734 - val_acc: 0.6935\n",
      "Epoch 11/50\n",
      "111/110 [==============================] - 309s 3s/step - loss: 0.5923 - acc: 0.7827 - val_loss: 0.5916 - val_acc: 0.7778\n",
      "Epoch 12/50\n",
      "111/110 [==============================] - 336s 3s/step - loss: 0.5301 - acc: 0.8041 - val_loss: 0.5159 - val_acc: 0.8206\n",
      "Epoch 13/50\n",
      "111/110 [==============================] - 316s 3s/step - loss: 0.5145 - acc: 0.8075 - val_loss: 0.6766 - val_acc: 0.7364\n",
      "Epoch 14/50\n",
      "111/110 [==============================] - 310s 3s/step - loss: 0.4854 - acc: 0.8141 - val_loss: 0.5552 - val_acc: 0.8061\n",
      "Epoch 15/50\n",
      "111/110 [==============================] - 311s 3s/step - loss: 0.4526 - acc: 0.8268 - val_loss: 0.4517 - val_acc: 0.8431\n",
      "Epoch 16/50\n",
      "111/110 [==============================] - 308s 3s/step - loss: 0.4150 - acc: 0.8422 - val_loss: 0.6259 - val_acc: 0.7560\n",
      "Epoch 17/50\n",
      "111/110 [==============================] - 308s 3s/step - loss: 0.4118 - acc: 0.8416 - val_loss: 0.4916 - val_acc: 0.8039\n",
      "Epoch 18/50\n",
      "111/110 [==============================] - 308s 3s/step - loss: 0.3877 - acc: 0.8490 - val_loss: 0.4672 - val_acc: 0.8315\n",
      "Epoch 19/50\n",
      "111/110 [==============================] - 311s 3s/step - loss: 0.3496 - acc: 0.8589 - val_loss: 0.4811 - val_acc: 0.8351\n",
      "Epoch 20/50\n",
      "111/110 [==============================] - 308s 3s/step - loss: 0.3479 - acc: 0.8706 - val_loss: 0.3302 - val_acc: 0.8787\n",
      "Epoch 21/50\n",
      "111/110 [==============================] - 308s 3s/step - loss: 0.3436 - acc: 0.8708 - val_loss: 0.2991 - val_acc: 0.8853\n",
      "Epoch 22/50\n",
      "111/110 [==============================] - 307s 3s/step - loss: 0.2974 - acc: 0.8837 - val_loss: 0.3877 - val_acc: 0.8431\n",
      "Epoch 23/50\n",
      "111/110 [==============================] - 307s 3s/step - loss: 0.3121 - acc: 0.8743 - val_loss: 0.3002 - val_acc: 0.8867\n",
      "Epoch 24/50\n",
      "111/110 [==============================] - 322s 3s/step - loss: 0.2978 - acc: 0.8844 - val_loss: 0.2983 - val_acc: 0.8940\n",
      "Epoch 25/50\n",
      "111/110 [==============================] - 309s 3s/step - loss: 0.2973 - acc: 0.8876 - val_loss: 0.2807 - val_acc: 0.8874\n",
      "Epoch 26/50\n",
      "111/110 [==============================] - 309s 3s/step - loss: 0.2823 - acc: 0.8902 - val_loss: 0.3390 - val_acc: 0.8816\n",
      "Epoch 27/50\n",
      "111/110 [==============================] - 307s 3s/step - loss: 0.2622 - acc: 0.8984 - val_loss: 0.3475 - val_acc: 0.8722\n",
      "Epoch 28/50\n",
      "111/110 [==============================] - 308s 3s/step - loss: 0.2736 - acc: 0.8925 - val_loss: 0.3759 - val_acc: 0.8613\n",
      "Epoch 29/50\n",
      "111/110 [==============================] - 309s 3s/step - loss: 0.2585 - acc: 0.8980 - val_loss: 0.2568 - val_acc: 0.9092\n",
      "Epoch 30/50\n",
      "111/110 [==============================] - 309s 3s/step - loss: 0.2469 - acc: 0.9065 - val_loss: 0.4179 - val_acc: 0.8707\n",
      "Epoch 31/50\n",
      "111/110 [==============================] - 308s 3s/step - loss: 0.2506 - acc: 0.8963 - val_loss: 0.3717 - val_acc: 0.8765\n",
      "Epoch 32/50\n",
      "111/110 [==============================] - 310s 3s/step - loss: 0.2298 - acc: 0.9106 - val_loss: 0.2543 - val_acc: 0.9063\n",
      "Epoch 33/50\n",
      "111/110 [==============================] - 316s 3s/step - loss: 0.2217 - acc: 0.9118 - val_loss: 0.3002 - val_acc: 0.8911\n",
      "Epoch 34/50\n",
      "111/110 [==============================] - 307s 3s/step - loss: 0.2086 - acc: 0.9210 - val_loss: 0.2742 - val_acc: 0.9012\n",
      "Epoch 35/50\n",
      "111/110 [==============================] - 308s 3s/step - loss: 0.2128 - acc: 0.9176 - val_loss: 0.2410 - val_acc: 0.9107\n",
      "Epoch 36/50\n",
      "111/110 [==============================] - 309s 3s/step - loss: 0.2127 - acc: 0.9202 - val_loss: 0.2630 - val_acc: 0.9005\n",
      "Epoch 37/50\n",
      "111/110 [==============================] - 347s 3s/step - loss: 0.1991 - acc: 0.9209 - val_loss: 0.2532 - val_acc: 0.8976\n",
      "Epoch 38/50\n",
      "111/110 [==============================] - 328s 3s/step - loss: 0.1951 - acc: 0.9262 - val_loss: 0.3874 - val_acc: 0.8700\n",
      "Epoch 39/50\n",
      "111/110 [==============================] - 423s 4s/step - loss: 0.1865 - acc: 0.9285 - val_loss: 0.2410 - val_acc: 0.9121\n",
      "Epoch 40/50\n",
      "111/110 [==============================] - 381s 3s/step - loss: 0.1961 - acc: 0.9271 - val_loss: 0.2641 - val_acc: 0.9114\n",
      "Epoch 41/50\n",
      "111/110 [==============================] - 402s 4s/step - loss: 0.1760 - acc: 0.9331 - val_loss: 0.2376 - val_acc: 0.9114\n",
      "Epoch 42/50\n",
      "111/110 [==============================] - 458s 4s/step - loss: 0.1721 - acc: 0.9336 - val_loss: 0.3830 - val_acc: 0.8722\n",
      "Epoch 43/50\n",
      "111/110 [==============================] - 489s 4s/step - loss: 0.1813 - acc: 0.9327 - val_loss: 0.2340 - val_acc: 0.9158\n",
      "Epoch 44/50\n",
      "111/110 [==============================] - 490s 4s/step - loss: 0.1654 - acc: 0.9357 - val_loss: 0.2490 - val_acc: 0.9099\n",
      "Epoch 45/50\n",
      "111/110 [==============================] - 323s 3s/step - loss: 0.1646 - acc: 0.9419 - val_loss: 0.2940 - val_acc: 0.9034\n",
      "Epoch 46/50\n",
      "111/110 [==============================] - 312s 3s/step - loss: 0.1581 - acc: 0.9396 - val_loss: 0.2730 - val_acc: 0.9114\n",
      "Epoch 47/50\n",
      "111/110 [==============================] - 407s 4s/step - loss: 0.1565 - acc: 0.9400 - val_loss: 0.4022 - val_acc: 0.8693\n",
      "Epoch 48/50\n",
      "111/110 [==============================] - 429s 4s/step - loss: 0.1471 - acc: 0.9437 - val_loss: 0.4311 - val_acc: 0.8627\n",
      "Epoch 49/50\n",
      "111/110 [==============================] - 349s 3s/step - loss: 0.1427 - acc: 0.9420 - val_loss: 0.2479 - val_acc: 0.9121\n",
      "Epoch 50/50\n",
      "111/110 [==============================] - 334s 3s/step - loss: 0.1498 - acc: 0.9431 - val_loss: 0.2542 - val_acc: 0.9121\n"
     ]
    }
   ],
   "source": [
    "history = model.fit_generator(\n",
    "            train_generator,\n",
    "            #total_no_tarinSamples / batch_size\n",
    "            steps_per_epoch=(5522 / batchSize),\n",
    "            epochs=epochSize,\n",
    "            validation_data=validation_generator,\n",
    "            #total_no_validationSamples / batch_size\n",
    "            validation_steps=(1377 / batchSize)\n",
    ")"
   ]
  },
  {
   "cell_type": "markdown",
   "metadata": {},
   "source": [
    "<hr>"
   ]
  },
  {
   "cell_type": "markdown",
   "metadata": {},
   "source": [
    "## Visualize"
   ]
  },
  {
   "cell_type": "code",
   "execution_count": 13,
   "metadata": {},
   "outputs": [],
   "source": [
    "#importing matplotlib to plot graphs\n",
    "import matplotlib.pyplot as plt\n",
    "\n",
    "#assigning values to respective variables\n",
    "acc = history.history['acc']\n",
    "val_acc = history.history['val_acc']\n",
    "val_loss = history.history['val_loss']\n",
    "loss = history.history['loss']\n",
    "nos_epochs = range(len(acc))"
   ]
  },
  {
   "cell_type": "code",
   "execution_count": 15,
   "metadata": {},
   "outputs": [
    {
     "data": {
      "image/png": "[encoded data removed]",
      "text/plain": [
       "<Figure size 432x288 with 1 Axes>"
      ]
     },
     "metadata": {
      "needs_background": "light"
     },
     "output_type": "display_data"
    }
   ],
   "source": [
    "plt.plot(nos_epochs, acc, color='red', label='Training Acc.')\n",
    "plt.plot(nos_epochs, val_acc, color='blue', label='Validation Acc.')\n",
    "plt.title('Training and Validation Accuracy')\n",
    "plt.xlabel('no. of epochs')\n",
    "plt.ylabel('accuracy')\n",
    "plt.legend()\n",
    "plt.show()"
   ]
  },
  {
   "cell_type": "code",
   "execution_count": 16,
   "metadata": {},
   "outputs": [
    {
     "data": {
      "image/png": "[encoded data removed]",
      "text/plain": [
       "<Figure size 432x288 with 1 Axes>"
      ]
     },
     "metadata": {
      "needs_background": "light"
     },
     "output_type": "display_data"
    }
   ],
   "source": [
    "plt.plot(nos_epochs, loss, color='red', label='Training Loss')\n",
    "plt.plot(nos_epochs, val_loss, color='blue', label='Validation Loss')\n",
    "plt.title('Training and Validation Loss')\n",
    "plt.xlabel('no. of epochs')\n",
    "plt.ylabel('loss')\n",
    "plt.legend()\n",
    "plt.show()"
   ]
  },
  {
   "cell_type": "code",
   "execution_count": 17,
   "metadata": {},
   "outputs": [],
   "source": [
    "#saving entire model\n",
    "model.save('entire_model.h5')"
   ]
  },
  {
   "cell_type": "code",
   "execution_count": 18,
   "metadata": {},
   "outputs": [
    {
     "name": "stdout",
     "output_type": "stream",
     "text": [
      "Saved model to disk\n"
     ]
    }
   ],
   "source": [
    "#Model Architecture & Weights\n",
    "from keras.models import model_from_json\n",
    "\n",
    "# model architecture to JSON\n",
    "with open(\"model_architecture.json\", \"w\") as f:\n",
    "    f.write(model.to_json())\n",
    "    \n",
    "# model weights to HDF5\n",
    "model.save_weights(\"model_weights.h5\")\n",
    "print(\"Saved model to disk\")"
   ]
  },
  {
   "cell_type": "markdown",
   "metadata": {},
   "source": [
    "## END OF CODE"
   ]
  }
 ],
 "metadata": {
  "kernelspec": {
   "display_name": "Python 3",
   "language": "python",
   "name": "python3"
  },
  "language_info": {
   "codemirror_mode": {
    "name": "ipython",
    "version": 3
   },
   "file_extension": ".py",
   "mimetype": "text/x-python",
   "name": "python",
   "nbconvert_exporter": "python",
   "pygments_lexer": "ipython3",
   "version": "3.6.8"
  }
 },
 "nbformat": 4,
 "nbformat_minor": 2
}
