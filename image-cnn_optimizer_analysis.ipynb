{
 "cells": [
  {
   "cell_type": "markdown",
   "metadata": {},
   "source": [
    "## Importing DataSet"
   ]
  },
  {
   "cell_type": "code",
   "execution_count": 1,
   "metadata": {
    "_cell_guid": "b1076dfc-b9ad-4769-8c92-a6c4dae69d19",
    "_uuid": "8f2839f25d086af736a60e9eeb907d3b93b6e0e5"
   },
   "outputs": [
    {
     "name": "stdout",
     "output_type": "stream",
     "text": [
      "['src', 'lib', 'input', 'working']\n",
      "['data']\n",
      "['natural_images']\n",
      "['airplane', 'dog', 'fruit', 'cat', 'flower', 'person', 'car', 'motorbike']\n"
     ]
    }
   ],
   "source": [
    "#importing DataSet\n",
    "import os\n",
    "print(os.listdir('../'))\n",
    "print(os.listdir('../input'))\n",
    "print(os.listdir('../input/data'))\n",
    "print(os.listdir('../input/data/natural_images/'))"
   ]
  },
  {
   "cell_type": "markdown",
   "metadata": {},
   "source": [
    "## Importing Layers"
   ]
  },
  {
   "cell_type": "code",
   "execution_count": 2,
   "metadata": {},
   "outputs": [
    {
     "name": "stderr",
     "output_type": "stream",
     "text": [
      "Using TensorFlow backend.\n"
     ]
    }
   ],
   "source": [
    "import keras\n",
    "from keras.models import Sequential\n",
    "from keras.layers import Conv2D\n",
    "from keras.layers import MaxPool2D\n",
    "from keras.layers import Dense\n",
    "from keras.layers import Dropout\n",
    "from keras.layers import Flatten"
   ]
  },
  {
   "cell_type": "markdown",
   "metadata": {},
   "source": [
    "## Declaring variables with Values"
   ]
  },
  {
   "cell_type": "code",
   "execution_count": 3,
   "metadata": {},
   "outputs": [],
   "source": [
    "batchSize = 50\n",
    "epochSize = 60\n",
    "#dimensions\n",
    "dim1 = dim2 = 256"
   ]
  },
  {
   "cell_type": "markdown",
   "metadata": {},
   "source": [
    "## Preparing Model and Adding Layers for ADAM optimizer"
   ]
  },
  {
   "cell_type": "code",
   "execution_count": 4,
   "metadata": {},
   "outputs": [],
   "source": [
    "#model initializing\n",
    "model = Sequential()\n",
    "\n",
    "#adding conv2d and maxpool2d layers\n",
    "model.add(Conv2D(32, (3,3), activation='relu', input_shape=(dim1, dim2, 3)))\n",
    "model.add(MaxPool2D(pool_size=(2,2)))\n",
    "\n",
    "#2nd layer addition\n",
    "model.add(Conv2D(64, (3,3), activation='relu'))\n",
    "model.add(MaxPool2D(pool_size=(2,2)))\n",
    "\n",
    "model.add(Conv2D(128, (3,3), activation='relu'))\n",
    "model.add(MaxPool2D(pool_size=(2,2)))\n",
    "\n",
    "model.add(Flatten())"
   ]
  },
  {
   "cell_type": "code",
   "execution_count": 5,
   "metadata": {},
   "outputs": [],
   "source": [
    "#hidden layers\n",
    "model.add(Dense(256, activation='relu'))\n",
    "model.add(Dropout(rate=0.4))\n",
    "\n",
    "model.add(Dense(512, activation='relu'))\n",
    "model.add(Dropout(rate=0.3))\n",
    "\n",
    "model.add(Dense(256, activation='relu'))\n",
    "model.add(Dropout(rate=0.2))\n",
    "\n",
    "#output\n",
    "model.add(Dense(8, activation='softmax'))"
   ]
  },
  {
   "cell_type": "code",
   "execution_count": 6,
   "metadata": {},
   "outputs": [],
   "source": [
    "#model compilation - ADAM\n",
    "model.compile(optimizer='adam', loss='categorical_crossentropy', metrics=['accuracy'])"
   ]
  },
  {
   "cell_type": "markdown",
   "metadata": {},
   "source": [
    "## Image Precprocessing & generation of Training and validarion sets"
   ]
  },
  {
   "cell_type": "code",
   "execution_count": 7,
   "metadata": {},
   "outputs": [],
   "source": [
    "from keras.preprocessing.image import ImageDataGenerator\n",
    "img_generator = ImageDataGenerator(\n",
    "        validation_split=0.2,\n",
    "        rescale=1./255,\n",
    "        shear_range=0.2,\n",
    "        zoom_range=0.2,\n",
    "        horizontal_flip=True)"
   ]
  },
  {
   "cell_type": "code",
   "execution_count": 8,
   "metadata": {},
   "outputs": [
    {
     "name": "stdout",
     "output_type": "stream",
     "text": [
      "Found 5522 images belonging to 8 classes.\n",
      "Found 1377 images belonging to 8 classes.\n"
     ]
    }
   ],
   "source": [
    "train_generator = img_generator.flow_from_directory(\n",
    "        '../input/data/natural_images/',\n",
    "        target_size=(dim1, dim2),\n",
    "        batch_size=batchSize,\n",
    "        subset='training'\n",
    "        )\n",
    "\n",
    "validation_generator = img_generator.flow_from_directory(\n",
    "        '../input/data/natural_images/',\n",
    "        target_size=(dim1, dim2),\n",
    "        batch_size=batchSize,\n",
    "        subset='validation'\n",
    ")"
   ]
  },
  {
   "cell_type": "markdown",
   "metadata": {},
   "source": [
    "## Model Fitting"
   ]
  },
  {
   "cell_type": "code",
   "execution_count": 9,
   "metadata": {},
   "outputs": [
    {
     "name": "stdout",
     "output_type": "stream",
     "text": [
      "Epoch 1/60\n",
      "111/110 [==============================] - 106s 953ms/step - loss: 1.4615 - acc: 0.4674 - val_loss: 0.7023 - val_acc: 0.7386\n",
      "Epoch 2/60\n",
      "111/110 [==============================] - 85s 764ms/step - loss: 0.5715 - acc: 0.7848 - val_loss: 0.4402 - val_acc: 0.8228\n",
      "Epoch 3/60\n",
      "111/110 [==============================] - 85s 763ms/step - loss: 0.4742 - acc: 0.8196 - val_loss: 0.4473 - val_acc: 0.8206\n",
      "Epoch 4/60\n",
      "111/110 [==============================] - 85s 767ms/step - loss: 0.3742 - acc: 0.8527 - val_loss: 0.4627 - val_acc: 0.8344\n",
      "Epoch 5/60\n",
      "111/110 [==============================] - 85s 763ms/step - loss: 0.3282 - acc: 0.8737 - val_loss: 0.3448 - val_acc: 0.8627\n",
      "Epoch 6/60\n",
      "111/110 [==============================] - 85s 761ms/step - loss: 0.3116 - acc: 0.8800 - val_loss: 0.3684 - val_acc: 0.8715\n",
      "Epoch 7/60\n",
      "111/110 [==============================] - 84s 757ms/step - loss: 0.2737 - acc: 0.8915 - val_loss: 0.3288 - val_acc: 0.8903\n",
      "Epoch 8/60\n",
      "111/110 [==============================] - 85s 765ms/step - loss: 0.2415 - acc: 0.9041 - val_loss: 0.2945 - val_acc: 0.8853\n",
      "Epoch 9/60\n",
      "111/110 [==============================] - 85s 762ms/step - loss: 0.2485 - acc: 0.9097 - val_loss: 0.2960 - val_acc: 0.9056\n",
      "Epoch 10/60\n",
      "111/110 [==============================] - 85s 768ms/step - loss: 0.2077 - acc: 0.9227 - val_loss: 0.2818 - val_acc: 0.8991\n",
      "Epoch 11/60\n",
      "111/110 [==============================] - 85s 765ms/step - loss: 0.1948 - acc: 0.9250 - val_loss: 0.2805 - val_acc: 0.9158\n",
      "Epoch 12/60\n",
      "111/110 [==============================] - 86s 771ms/step - loss: 0.1942 - acc: 0.9281 - val_loss: 0.2257 - val_acc: 0.9143\n",
      "Epoch 13/60\n",
      "111/110 [==============================] - 85s 764ms/step - loss: 0.1927 - acc: 0.9284 - val_loss: 0.2425 - val_acc: 0.9194\n",
      "Epoch 14/60\n",
      "111/110 [==============================] - 85s 763ms/step - loss: 0.1694 - acc: 0.9381 - val_loss: 0.2875 - val_acc: 0.9063\n",
      "Epoch 15/60\n",
      "111/110 [==============================] - 86s 772ms/step - loss: 0.1554 - acc: 0.9390 - val_loss: 0.2738 - val_acc: 0.9107\n",
      "Epoch 16/60\n",
      "111/110 [==============================] - 85s 763ms/step - loss: 0.1637 - acc: 0.9413 - val_loss: 0.2561 - val_acc: 0.9121\n",
      "Epoch 17/60\n",
      "111/110 [==============================] - 85s 765ms/step - loss: 0.1449 - acc: 0.9473 - val_loss: 0.2496 - val_acc: 0.9216\n",
      "Epoch 18/60\n",
      "111/110 [==============================] - 85s 764ms/step - loss: 0.1549 - acc: 0.9414 - val_loss: 0.2332 - val_acc: 0.9194\n",
      "Epoch 19/60\n",
      "111/110 [==============================] - 85s 768ms/step - loss: 0.1349 - acc: 0.9495 - val_loss: 0.2389 - val_acc: 0.9223\n",
      "Epoch 20/60\n",
      "111/110 [==============================] - 85s 763ms/step - loss: 0.1488 - acc: 0.9477 - val_loss: 0.2098 - val_acc: 0.9346\n",
      "Epoch 21/60\n",
      "111/110 [==============================] - 85s 764ms/step - loss: 0.1376 - acc: 0.9505 - val_loss: 0.1872 - val_acc: 0.9325\n",
      "Epoch 22/60\n",
      "111/110 [==============================] - 85s 768ms/step - loss: 0.1173 - acc: 0.9560 - val_loss: 0.2059 - val_acc: 0.9303\n",
      "Epoch 23/60\n",
      "111/110 [==============================] - 85s 762ms/step - loss: 0.1460 - acc: 0.9526 - val_loss: 0.2215 - val_acc: 0.9245\n",
      "Epoch 24/60\n",
      "111/110 [==============================] - 85s 764ms/step - loss: 0.1268 - acc: 0.9553 - val_loss: 0.2358 - val_acc: 0.9267\n",
      "Epoch 25/60\n",
      "111/110 [==============================] - 85s 763ms/step - loss: 0.1051 - acc: 0.9630 - val_loss: 0.2552 - val_acc: 0.9259\n",
      "Epoch 26/60\n",
      "111/110 [==============================] - 85s 768ms/step - loss: 0.1046 - acc: 0.9581 - val_loss: 0.1794 - val_acc: 0.9412\n",
      "Epoch 27/60\n",
      "111/110 [==============================] - 84s 761ms/step - loss: 0.1132 - acc: 0.9600 - val_loss: 0.2113 - val_acc: 0.9368\n",
      "Epoch 28/60\n",
      "111/110 [==============================] - 85s 763ms/step - loss: 0.1313 - acc: 0.9548 - val_loss: 0.2118 - val_acc: 0.9310\n",
      "Epoch 29/60\n",
      "111/110 [==============================] - 85s 765ms/step - loss: 0.1086 - acc: 0.9590 - val_loss: 0.2210 - val_acc: 0.9361\n",
      "Epoch 30/60\n",
      "111/110 [==============================] - 85s 766ms/step - loss: 0.0944 - acc: 0.9677 - val_loss: 0.2015 - val_acc: 0.9354\n",
      "Epoch 31/60\n",
      "111/110 [==============================] - 84s 761ms/step - loss: 0.1057 - acc: 0.9625 - val_loss: 0.1975 - val_acc: 0.9368\n",
      "Epoch 32/60\n",
      "111/110 [==============================] - 85s 763ms/step - loss: 0.1145 - acc: 0.9643 - val_loss: 0.1746 - val_acc: 0.9361\n",
      "Epoch 33/60\n",
      "111/110 [==============================] - 85s 764ms/step - loss: 0.0904 - acc: 0.9693 - val_loss: 0.2015 - val_acc: 0.9310\n",
      "Epoch 34/60\n",
      "111/110 [==============================] - 84s 760ms/step - loss: 0.1084 - acc: 0.9641 - val_loss: 0.2020 - val_acc: 0.9296\n",
      "Epoch 35/60\n",
      "111/110 [==============================] - 85s 764ms/step - loss: 0.0882 - acc: 0.9699 - val_loss: 0.2164 - val_acc: 0.9412\n",
      "Epoch 36/60\n",
      "111/110 [==============================] - 84s 761ms/step - loss: 0.0974 - acc: 0.9676 - val_loss: 0.2336 - val_acc: 0.9339\n",
      "Epoch 37/60\n",
      "111/110 [==============================] - 85s 766ms/step - loss: 0.0827 - acc: 0.9713 - val_loss: 0.2078 - val_acc: 0.9325\n",
      "Epoch 38/60\n",
      "111/110 [==============================] - 85s 763ms/step - loss: 0.0877 - acc: 0.9722 - val_loss: 0.2075 - val_acc: 0.9434\n",
      "Epoch 39/60\n",
      "111/110 [==============================] - 84s 761ms/step - loss: 0.0748 - acc: 0.9751 - val_loss: 0.2701 - val_acc: 0.9317\n",
      "Epoch 40/60\n",
      "111/110 [==============================] - 84s 760ms/step - loss: 0.0877 - acc: 0.9697 - val_loss: 0.2248 - val_acc: 0.9397\n",
      "Epoch 41/60\n",
      "111/110 [==============================] - 84s 760ms/step - loss: 0.0832 - acc: 0.9726 - val_loss: 0.2300 - val_acc: 0.9383\n",
      "Epoch 42/60\n",
      "111/110 [==============================] - 84s 759ms/step - loss: 0.0866 - acc: 0.9688 - val_loss: 0.1779 - val_acc: 0.9470\n",
      "Epoch 43/60\n",
      "111/110 [==============================] - 84s 761ms/step - loss: 0.0968 - acc: 0.9693 - val_loss: 0.2010 - val_acc: 0.9332\n",
      "Epoch 44/60\n",
      "111/110 [==============================] - 85s 763ms/step - loss: 0.0711 - acc: 0.9754 - val_loss: 0.2125 - val_acc: 0.9397\n",
      "Epoch 45/60\n",
      "111/110 [==============================] - 84s 761ms/step - loss: 0.0783 - acc: 0.9718 - val_loss: 0.1793 - val_acc: 0.9463\n",
      "Epoch 46/60\n",
      "111/110 [==============================] - 85s 762ms/step - loss: 0.0820 - acc: 0.9737 - val_loss: 0.2024 - val_acc: 0.9419\n",
      "Epoch 47/60\n",
      "111/110 [==============================] - 85s 767ms/step - loss: 0.0538 - acc: 0.9800 - val_loss: 0.2398 - val_acc: 0.9405\n",
      "Epoch 48/60\n",
      "111/110 [==============================] - 85s 764ms/step - loss: 0.0585 - acc: 0.9792 - val_loss: 0.2998 - val_acc: 0.9281\n",
      "Epoch 49/60\n",
      "111/110 [==============================] - 84s 760ms/step - loss: 0.0771 - acc: 0.9780 - val_loss: 0.2144 - val_acc: 0.9375\n",
      "Epoch 50/60\n",
      "111/110 [==============================] - 85s 763ms/step - loss: 0.0607 - acc: 0.9795 - val_loss: 0.1824 - val_acc: 0.9470\n",
      "Epoch 51/60\n",
      "111/110 [==============================] - 85s 765ms/step - loss: 0.0618 - acc: 0.9795 - val_loss: 0.2028 - val_acc: 0.9419\n",
      "Epoch 52/60\n",
      "111/110 [==============================] - 85s 762ms/step - loss: 0.0896 - acc: 0.9717 - val_loss: 0.2191 - val_acc: 0.9346\n",
      "Epoch 53/60\n",
      "111/110 [==============================] - 85s 765ms/step - loss: 0.0627 - acc: 0.9778 - val_loss: 0.1678 - val_acc: 0.9463\n",
      "Epoch 54/60\n",
      " 64/110 [================>.............] - ETA: 28s - loss: 0.0551 - acc: 0.9819"
     ]
    }
   ],
   "source": [
    "history = model.fit_generator(\n",
    "        train_generator,\n",
    "        steps_per_epoch=(5522 / batchSize),\n",
    "        epochs=epochSize,\n",
    "        validation_data=validation_generator,\n",
    "        validation_steps=(1377 / batchSize))"
   ]
  },
  {
   "cell_type": "code",
   "execution_count": 10,
   "metadata": {},
   "outputs": [
    {
     "data": {
      "text/plain": [
       "{'val_loss': [0.7023057827675957,\n",
       "  0.44024516543618303,\n",
       "  0.4473112775371312,\n",
       "  0.46271779992568296,\n",
       "  0.34480176936394075,\n",
       "  0.36835184678186433,\n",
       "  0.3287662456194906,\n",
       "  0.2945237018292419,\n",
       "  0.29600871073524415,\n",
       "  0.28176382961010016,\n",
       "  0.28054655879497875,\n",
       "  0.2257427384856393,\n",
       "  0.242471623167493,\n",
       "  0.2875208434261268,\n",
       "  0.27377288370307323,\n",
       "  0.2561316513114852,\n",
       "  0.2496296697517366,\n",
       "  0.23318368720787544,\n",
       "  0.2389352623976567,\n",
       "  0.20981251076134375,\n",
       "  0.18723166123649393,\n",
       "  0.20593754878469195,\n",
       "  0.2214725449540603,\n",
       "  0.235845444692852,\n",
       "  0.25519593736087837,\n",
       "  0.1794060069469758,\n",
       "  0.21132433249431845,\n",
       "  0.21178321402381967,\n",
       "  0.22095341240268906,\n",
       "  0.20149231360401462,\n",
       "  0.1975255048872339,\n",
       "  0.1745715279215994,\n",
       "  0.20149319641124364,\n",
       "  0.2019817113183769,\n",
       "  0.21642758246421945,\n",
       "  0.2335743100186925,\n",
       "  0.20780836521345547,\n",
       "  0.20748859744034734,\n",
       "  0.2700817462005473,\n",
       "  0.22483972693234142,\n",
       "  0.23004508778972305,\n",
       "  0.17788659059966744,\n",
       "  0.2010145953429637,\n",
       "  0.21253041311227375,\n",
       "  0.17925062051520413,\n",
       "  0.20244525829918503,\n",
       "  0.23982228479397497,\n",
       "  0.299761893007209,\n",
       "  0.21440770253998997,\n",
       "  0.18236516443126516,\n",
       "  0.20279207240219296,\n",
       "  0.2191443390381362,\n",
       "  0.16776159922974476,\n",
       "  0.2499115825694977,\n",
       "  0.2289481730807029,\n",
       "  0.23002103638490992,\n",
       "  0.267161386958665,\n",
       "  0.2715545079671523,\n",
       "  0.20533722328507736,\n",
       "  0.25846229828001366],\n",
       " 'val_acc': [0.7385620940571344,\n",
       "  0.822803193317779,\n",
       "  0.8206245380202842,\n",
       "  0.8344226539697696,\n",
       "  0.8627450915896209,\n",
       "  0.8714596927382414,\n",
       "  0.8903413158702781,\n",
       "  0.8852578041859961,\n",
       "  0.9055918594937266,\n",
       "  0.8990559143784606,\n",
       "  0.9157588983153466,\n",
       "  0.9143064632827853,\n",
       "  0.9193899754864977,\n",
       "  0.9063180766420773,\n",
       "  0.910675380094898,\n",
       "  0.9121278117944472,\n",
       "  0.9215686226462487,\n",
       "  0.9193899771313608,\n",
       "  0.9222948421753223,\n",
       "  0.9346405164262221,\n",
       "  0.9324618714307648,\n",
       "  0.9302832196827114,\n",
       "  0.9244734831019078,\n",
       "  0.926652140606982,\n",
       "  0.9259259186538995,\n",
       "  0.9411764643983557,\n",
       "  0.9368191715072876,\n",
       "  0.9310094370907774,\n",
       "  0.9360929521946433,\n",
       "  0.93536673790316,\n",
       "  0.936819169342994,\n",
       "  0.9360929514587835,\n",
       "  0.9310094397312156,\n",
       "  0.9295569996342073,\n",
       "  0.9411764704150918,\n",
       "  0.9339143026108835,\n",
       "  0.9324618793520792,\n",
       "  0.9433551216437146,\n",
       "  0.9317356571392815,\n",
       "  0.9397240368109643,\n",
       "  0.9382716009992573,\n",
       "  0.9469862002432996,\n",
       "  0.9331880871506818,\n",
       "  0.9397240368109643,\n",
       "  0.9462599845233826,\n",
       "  0.9419026841871446,\n",
       "  0.9404502565997531,\n",
       "  0.9281045684540886,\n",
       "  0.9375453857987708,\n",
       "  0.9469862031434529,\n",
       "  0.9419026880395871,\n",
       "  0.9346405243475366,\n",
       "  0.946259982359089,\n",
       "  0.9302832201588561,\n",
       "  0.9339143023944542,\n",
       "  0.9368191671787004,\n",
       "  0.9324618671021777,\n",
       "  0.936819169342994,\n",
       "  0.9491648497837735,\n",
       "  0.9346405185905158],\n",
       " 'loss': [1.4647329001053655,\n",
       "  0.571992502971129,\n",
       "  0.47337101954172073,\n",
       "  0.3730867423038904,\n",
       "  0.3277757931439957,\n",
       "  0.311597853208184,\n",
       "  0.2740097369746383,\n",
       "  0.24242116558766588,\n",
       "  0.24943575894339323,\n",
       "  0.20874002341576373,\n",
       "  0.19524477323202152,\n",
       "  0.19485069696927407,\n",
       "  0.19186399240223492,\n",
       "  0.16854972438060345,\n",
       "  0.15574058603896088,\n",
       "  0.1642069496364157,\n",
       "  0.144949436779392,\n",
       "  0.1542269546904239,\n",
       "  0.1340984139505103,\n",
       "  0.1477854018366421,\n",
       "  0.13677866099761884,\n",
       "  0.1175634812932004,\n",
       "  0.1460079339935658,\n",
       "  0.12700762427508108,\n",
       "  0.1045685859969812,\n",
       "  0.10454000981557643,\n",
       "  0.1135791164439351,\n",
       "  0.1314945236875209,\n",
       "  0.10757457729522105,\n",
       "  0.09424392406517361,\n",
       "  0.10590470541735429,\n",
       "  0.11490629567153825,\n",
       "  0.09040301877817045,\n",
       "  0.10812683790339962,\n",
       "  0.08837366027218499,\n",
       "  0.09780772858947294,\n",
       "  0.08274145650737087,\n",
       "  0.08770932887648109,\n",
       "  0.07516822433662464,\n",
       "  0.08783322026428916,\n",
       "  0.08358101235643267,\n",
       "  0.08685516130465208,\n",
       "  0.09660225901793187,\n",
       "  0.0710379906473349,\n",
       "  0.07839129288734484,\n",
       "  0.08222629403110562,\n",
       "  0.054036175049395306,\n",
       "  0.05856352711648925,\n",
       "  0.07702746667837379,\n",
       "  0.060956542830551984,\n",
       "  0.06202730015640399,\n",
       "  0.09005072412748269,\n",
       "  0.06297121439783503,\n",
       "  0.06626241130176955,\n",
       "  0.0595926926385278,\n",
       "  0.06503612061689935,\n",
       "  0.051813080102080133,\n",
       "  0.06667387287846872,\n",
       "  0.05831099156771618,\n",
       "  0.043834640424035266],\n",
       " 'acc': [0.46631655303443614,\n",
       "  0.7850416473010794,\n",
       "  0.8196305656122237,\n",
       "  0.8531329178671956,\n",
       "  0.8739587070500665,\n",
       "  0.8801158951573163,\n",
       "  0.8911626167765393,\n",
       "  0.9036580928638767,\n",
       "  0.9092719965937862,\n",
       "  0.9223107533453168,\n",
       "  0.9248460661410768,\n",
       "  0.9279246638538785,\n",
       "  0.9284679442158388,\n",
       "  0.9389713850629282,\n",
       "  0.9389713841562295,\n",
       "  0.9409634165252649,\n",
       "  0.9474827925047552,\n",
       "  0.9420499808543923,\n",
       "  0.9494748251760234,\n",
       "  0.9478449813916345,\n",
       "  0.9507424876293554,\n",
       "  0.955994204631192,\n",
       "  0.9525534196506156,\n",
       "  0.9552698290162396,\n",
       "  0.9632379559234017,\n",
       "  0.9583484229511301,\n",
       "  0.9597971744185037,\n",
       "  0.9545454557975622,\n",
       "  0.9592538938190747,\n",
       "  0.9677653027073019,\n",
       "  0.9625135808481509,\n",
       "  0.9641434264891133,\n",
       "  0.9693951486504971,\n",
       "  0.964143428410451,\n",
       "  0.9699384273933527,\n",
       "  0.9674031151372944,\n",
       "  0.9713871797026606,\n",
       "  0.9722926484117989,\n",
       "  0.9750090574751898,\n",
       "  0.9697573359182717,\n",
       "  0.9724737444419612,\n",
       "  0.9686707716539087,\n",
       "  0.9693951491901988,\n",
       "  0.9755523392187863,\n",
       "  0.9719304616837258,\n",
       "  0.9735603057055834,\n",
       "  0.9798985893680582,\n",
       "  0.9793553109274357,\n",
       "  0.9780876517123133,\n",
       "  0.9793553095457995,\n",
       "  0.9793553095457995,\n",
       "  0.9715682741137183,\n",
       "  0.9777254641423058,\n",
       "  0.9789931225802578,\n",
       "  0.9815284366928897,\n",
       "  0.9795364034819197,\n",
       "  0.9826149981939806,\n",
       "  0.980260777715236,\n",
       "  0.9827960934469727,\n",
       "  0.9842448417409008]}"
      ]
     },
     "execution_count": 10,
     "metadata": {},
     "output_type": "execute_result"
    }
   ],
   "source": [
    "history.history"
   ]
  },
  {
   "cell_type": "code",
   "execution_count": 11,
   "metadata": {},
   "outputs": [
    {
     "data": {
      "text/plain": [
       "dict_keys(['val_loss', 'val_acc', 'loss', 'acc'])"
      ]
     },
     "execution_count": 11,
     "metadata": {},
     "output_type": "execute_result"
    }
   ],
   "source": [
    "history.history.keys()"
   ]
  },
  {
   "cell_type": "code",
   "execution_count": 12,
   "metadata": {},
   "outputs": [],
   "source": [
    "adam_val_loss = history.history['val_loss']\n",
    "adam_val_acc = history.history['val_acc']\n",
    "adam_loss = history.history['loss']\n",
    "adam_acc = history.history['acc']\n",
    "adam_epochs = range(len(adam_acc))"
   ]
  },
  {
   "cell_type": "markdown",
   "metadata": {},
   "source": [
    "## Visualizing"
   ]
  },
  {
   "cell_type": "code",
   "execution_count": 13,
   "metadata": {},
   "outputs": [],
   "source": [
    "import matplotlib.pyplot as plt"
   ]
  },
  {
   "cell_type": "code",
   "execution_count": 14,
   "metadata": {},
   "outputs": [
    {
     "data": {
      "image/png": "[encoded data removed]",
      "text/plain": [
       "<Figure size 432x288 with 1 Axes>"
      ]
     },
     "metadata": {
      "needs_background": "light"
     },
     "output_type": "display_data"
    }
   ],
   "source": [
    "plt.plot(adam_epochs, adam_acc, 'red', label='Training Acc')\n",
    "plt.plot(adam_epochs, adam_val_acc, 'blue', label='Validation Acc')\n",
    "plt.xlabel('epochs')\n",
    "plt.ylabel('Acc')\n",
    "plt.legend()\n",
    "plt.show()"
   ]
  },
  {
   "cell_type": "code",
   "execution_count": 15,
   "metadata": {},
   "outputs": [
    {
     "data": {
      "image/png": "[encoded data removed]",
      "text/plain": [
       "<Figure size 432x288 with 1 Axes>"
      ]
     },
     "metadata": {
      "needs_background": "light"
     },
     "output_type": "display_data"
    }
   ],
   "source": [
    "plt.plot(adam_epochs, adam_loss, 'red', label='Training Loss')\n",
    "plt.plot(adam_epochs, adam_val_loss, 'blue', label='Validation Loss')\n",
    "plt.xlabel('epochs')\n",
    "plt.ylabel('Loss')\n",
    "plt.legend()\n",
    "plt.show()"
   ]
  },
  {
   "cell_type": "markdown",
   "metadata": {},
   "source": [
    "## Model preparing for RMSprop optimizer"
   ]
  },
  {
   "cell_type": "code",
   "execution_count": 16,
   "metadata": {},
   "outputs": [],
   "source": [
    "#model initializing\n",
    "model = Sequential()\n",
    "\n",
    "#adding conv2d and maxpool2d layers\n",
    "model.add(Conv2D(32, (3,3), activation='relu', input_shape=(dim1, dim2, 3)))\n",
    "model.add(MaxPool2D(pool_size=(2,2)))\n",
    "\n",
    "#2nd layer addition\n",
    "model.add(Conv2D(64, (3,3), activation='relu'))\n",
    "model.add(MaxPool2D(pool_size=(2,2)))\n",
    "\n",
    "model.add(Conv2D(128, (3,3), activation='relu'))\n",
    "model.add(MaxPool2D(pool_size=(2,2)))\n",
    "\n",
    "model.add(Flatten())"
   ]
  },
  {
   "cell_type": "code",
   "execution_count": 17,
   "metadata": {},
   "outputs": [],
   "source": [
    "#hidden layers\n",
    "model.add(Dense(256, activation='relu'))\n",
    "model.add(Dropout(rate=0.4))\n",
    "\n",
    "model.add(Dense(512, activation='relu'))\n",
    "model.add(Dropout(rate=0.3))\n",
    "\n",
    "model.add(Dense(256, activation='relu'))\n",
    "model.add(Dropout(rate=0.2))\n",
    "\n",
    "#output\n",
    "model.add(Dense(8, activation='softmax'))"
   ]
  },
  {
   "cell_type": "code",
   "execution_count": 18,
   "metadata": {},
   "outputs": [],
   "source": [
    "#model compilation - RMSprop\n",
    "model.compile(optimizer='RMSprop', loss='categorical_crossentropy', metrics=['accuracy'])"
   ]
  },
  {
   "cell_type": "code",
   "execution_count": 19,
   "metadata": {},
   "outputs": [
    {
     "name": "stdout",
     "output_type": "stream",
     "text": [
      "Epoch 1/60\n",
      "111/110 [==============================] - 92s 831ms/step - loss: 1.5297 - acc: 0.5014 - val_loss: 0.7191 - val_acc: 0.7480\n",
      "Epoch 2/60\n",
      "111/110 [==============================] - 85s 767ms/step - loss: 0.6504 - acc: 0.7665 - val_loss: 0.7111 - val_acc: 0.7749\n",
      "Epoch 3/60\n",
      "111/110 [==============================] - 85s 762ms/step - loss: 0.5287 - acc: 0.8131 - val_loss: 0.4662 - val_acc: 0.8228\n",
      "Epoch 4/60\n",
      "111/110 [==============================] - 85s 763ms/step - loss: 0.4446 - acc: 0.8444 - val_loss: 0.3422 - val_acc: 0.8744\n",
      "Epoch 5/60\n",
      "111/110 [==============================] - 85s 767ms/step - loss: 0.3639 - acc: 0.8676 - val_loss: 0.3567 - val_acc: 0.8736\n",
      "Epoch 6/60\n",
      "111/110 [==============================] - 84s 761ms/step - loss: 0.3364 - acc: 0.8857 - val_loss: 0.5898 - val_acc: 0.8119\n",
      "Epoch 7/60\n",
      "111/110 [==============================] - 84s 758ms/step - loss: 0.2892 - acc: 0.8939 - val_loss: 0.3573 - val_acc: 0.8925\n",
      "Epoch 8/60\n",
      "111/110 [==============================] - 85s 765ms/step - loss: 0.2882 - acc: 0.8999 - val_loss: 0.4697 - val_acc: 0.8489\n",
      "Epoch 9/60\n",
      "111/110 [==============================] - 85s 765ms/step - loss: 0.2747 - acc: 0.9120 - val_loss: 0.4298 - val_acc: 0.8845\n",
      "Epoch 10/60\n",
      "111/110 [==============================] - 84s 760ms/step - loss: 0.2832 - acc: 0.9076 - val_loss: 0.2574 - val_acc: 0.9208\n",
      "Epoch 11/60\n",
      "111/110 [==============================] - 86s 772ms/step - loss: 0.2708 - acc: 0.9167 - val_loss: 0.3387 - val_acc: 0.9121\n",
      "Epoch 12/60\n",
      "111/110 [==============================] - 85s 766ms/step - loss: 0.2401 - acc: 0.9264 - val_loss: 0.2701 - val_acc: 0.9201\n",
      "Epoch 13/60\n",
      "111/110 [==============================] - 85s 762ms/step - loss: 0.2373 - acc: 0.9251 - val_loss: 0.5628 - val_acc: 0.8627\n",
      "Epoch 14/60\n",
      "111/110 [==============================] - 85s 764ms/step - loss: 0.2539 - acc: 0.9275 - val_loss: 0.3551 - val_acc: 0.9056\n",
      "Epoch 15/60\n",
      "111/110 [==============================] - 85s 765ms/step - loss: 0.2192 - acc: 0.9310 - val_loss: 0.1845 - val_acc: 0.9397\n",
      "Epoch 16/60\n",
      "111/110 [==============================] - 85s 767ms/step - loss: 0.2299 - acc: 0.9274 - val_loss: 0.2819 - val_acc: 0.9274\n",
      "Epoch 17/60\n",
      "111/110 [==============================] - 85s 763ms/step - loss: 0.2223 - acc: 0.9341 - val_loss: 0.3957 - val_acc: 0.9012\n",
      "Epoch 18/60\n",
      "111/110 [==============================] - 85s 764ms/step - loss: 0.2260 - acc: 0.9295 - val_loss: 0.2724 - val_acc: 0.9165\n",
      "Epoch 19/60\n",
      "111/110 [==============================] - 86s 771ms/step - loss: 0.2770 - acc: 0.9334 - val_loss: 0.2446 - val_acc: 0.9288\n",
      "Epoch 20/60\n",
      "111/110 [==============================] - 85s 764ms/step - loss: 0.2186 - acc: 0.9307 - val_loss: 0.2416 - val_acc: 0.9245\n",
      "Epoch 21/60\n",
      "111/110 [==============================] - 85s 764ms/step - loss: 0.2417 - acc: 0.9288 - val_loss: 0.2373 - val_acc: 0.9267\n",
      "Epoch 22/60\n",
      "111/110 [==============================] - 85s 764ms/step - loss: 0.2177 - acc: 0.9353 - val_loss: 0.2140 - val_acc: 0.9179\n",
      "Epoch 23/60\n",
      "111/110 [==============================] - 85s 766ms/step - loss: 0.2259 - acc: 0.9367 - val_loss: 0.2529 - val_acc: 0.9230\n",
      "Epoch 24/60\n",
      "111/110 [==============================] - 84s 759ms/step - loss: 0.1906 - acc: 0.9476 - val_loss: 0.3130 - val_acc: 0.8969\n",
      "Epoch 25/60\n",
      "111/110 [==============================] - 84s 760ms/step - loss: 0.2318 - acc: 0.9413 - val_loss: 0.2579 - val_acc: 0.9208\n",
      "Epoch 26/60\n",
      "111/110 [==============================] - 85s 763ms/step - loss: 0.2480 - acc: 0.9362 - val_loss: 0.2228 - val_acc: 0.9361\n",
      "Epoch 27/60\n",
      "111/110 [==============================] - 86s 771ms/step - loss: 0.2155 - acc: 0.9391 - val_loss: 0.2567 - val_acc: 0.9317\n",
      "Epoch 28/60\n",
      "111/110 [==============================] - 85s 764ms/step - loss: 0.2455 - acc: 0.9445 - val_loss: 0.3091 - val_acc: 0.9310\n",
      "Epoch 29/60\n",
      "111/110 [==============================] - 85s 762ms/step - loss: 0.2841 - acc: 0.9364 - val_loss: 0.2322 - val_acc: 0.9354\n",
      "Epoch 30/60\n",
      "111/110 [==============================] - 85s 768ms/step - loss: 0.2544 - acc: 0.9384 - val_loss: 0.2212 - val_acc: 0.9354\n",
      "Epoch 31/60\n",
      "111/110 [==============================] - 85s 764ms/step - loss: 0.2766 - acc: 0.9323 - val_loss: 0.3247 - val_acc: 0.9121\n",
      "Epoch 32/60\n",
      "111/110 [==============================] - 86s 771ms/step - loss: 0.2552 - acc: 0.9407 - val_loss: 0.2174 - val_acc: 0.9368\n",
      "Epoch 33/60\n",
      "111/110 [==============================] - 85s 768ms/step - loss: 0.2759 - acc: 0.9356 - val_loss: 0.2356 - val_acc: 0.9288\n",
      "Epoch 34/60\n",
      "111/110 [==============================] - 86s 772ms/step - loss: 0.2847 - acc: 0.9345 - val_loss: 0.2486 - val_acc: 0.9339\n",
      "Epoch 35/60\n",
      "111/110 [==============================] - 85s 761ms/step - loss: 0.2274 - acc: 0.9436 - val_loss: 0.2177 - val_acc: 0.9426\n",
      "Epoch 36/60\n",
      "111/110 [==============================] - 85s 764ms/step - loss: 0.2348 - acc: 0.9451 - val_loss: 0.3654 - val_acc: 0.9201\n",
      "Epoch 37/60\n",
      "111/110 [==============================] - 86s 770ms/step - loss: 0.2314 - acc: 0.9398 - val_loss: 0.4254 - val_acc: 0.9085\n",
      "Epoch 38/60\n",
      "111/110 [==============================] - 85s 767ms/step - loss: 0.2341 - acc: 0.9406 - val_loss: 0.2795 - val_acc: 0.9237\n",
      "Epoch 39/60\n",
      "111/110 [==============================] - 85s 766ms/step - loss: 0.2751 - acc: 0.9406 - val_loss: 0.2392 - val_acc: 0.9339\n",
      "Epoch 40/60\n",
      "111/110 [==============================] - 85s 765ms/step - loss: 0.2550 - acc: 0.9407 - val_loss: 0.2417 - val_acc: 0.9288\n",
      "Epoch 41/60\n",
      "111/110 [==============================] - 85s 770ms/step - loss: 0.2331 - acc: 0.9421 - val_loss: 0.2086 - val_acc: 0.9434\n",
      "Epoch 42/60\n",
      "111/110 [==============================] - 85s 766ms/step - loss: 0.2905 - acc: 0.9394 - val_loss: 0.4219 - val_acc: 0.8991\n",
      "Epoch 43/60\n",
      "111/110 [==============================] - 85s 767ms/step - loss: 0.2837 - acc: 0.9389 - val_loss: 0.3059 - val_acc: 0.9267\n",
      "Epoch 44/60\n",
      "111/110 [==============================] - 86s 776ms/step - loss: 0.2934 - acc: 0.9409 - val_loss: 0.5908 - val_acc: 0.8773\n",
      "Epoch 45/60\n",
      "111/110 [==============================] - 87s 786ms/step - loss: 0.2539 - acc: 0.9369 - val_loss: 0.2579 - val_acc: 0.9339\n",
      "Epoch 46/60\n",
      "111/110 [==============================] - 89s 798ms/step - loss: 0.2466 - acc: 0.9409 - val_loss: 0.3338 - val_acc: 0.9085\n",
      "Epoch 47/60\n",
      "111/110 [==============================] - 85s 770ms/step - loss: 0.2512 - acc: 0.9491 - val_loss: 0.5452 - val_acc: 0.9092\n",
      "Epoch 48/60\n",
      "111/110 [==============================] - 86s 777ms/step - loss: 0.2811 - acc: 0.9427 - val_loss: 0.2344 - val_acc: 0.9274\n",
      "Epoch 49/60\n",
      "111/110 [==============================] - 85s 765ms/step - loss: 0.3077 - acc: 0.9402 - val_loss: 0.2988 - val_acc: 0.9303\n",
      "Epoch 50/60\n",
      "111/110 [==============================] - 85s 766ms/step - loss: 0.3004 - acc: 0.9401 - val_loss: 0.3131 - val_acc: 0.9136\n",
      "Epoch 51/60\n",
      "111/110 [==============================] - 85s 769ms/step - loss: 0.2486 - acc: 0.9448 - val_loss: 0.3421 - val_acc: 0.9317\n",
      "Epoch 52/60\n",
      "111/110 [==============================] - 85s 765ms/step - loss: 0.3351 - acc: 0.9345 - val_loss: 0.3203 - val_acc: 0.9020\n",
      "Epoch 53/60\n",
      "111/110 [==============================] - 85s 765ms/step - loss: 0.2476 - acc: 0.9470 - val_loss: 0.2318 - val_acc: 0.9405\n",
      "Epoch 54/60\n",
      "111/110 [==============================] - 85s 764ms/step - loss: 0.3119 - acc: 0.9388 - val_loss: 0.2212 - val_acc: 0.9426\n",
      "Epoch 55/60\n",
      "111/110 [==============================] - 85s 768ms/step - loss: 0.3405 - acc: 0.9349 - val_loss: 0.3199 - val_acc: 0.9223\n",
      "Epoch 56/60\n",
      "111/110 [==============================] - 86s 771ms/step - loss: 0.2812 - acc: 0.9381 - val_loss: 0.3072 - val_acc: 0.9354\n",
      "Epoch 57/60\n",
      "111/110 [==============================] - 85s 765ms/step - loss: 0.3351 - acc: 0.9344 - val_loss: 0.3498 - val_acc: 0.9194\n",
      "Epoch 58/60\n",
      "111/110 [==============================] - 85s 762ms/step - loss: 0.2966 - acc: 0.9343 - val_loss: 0.3305 - val_acc: 0.9150\n",
      "Epoch 59/60\n",
      "111/110 [==============================] - 86s 772ms/step - loss: 0.3121 - acc: 0.9428 - val_loss: 0.3398 - val_acc: 0.9230\n",
      "Epoch 60/60\n",
      "111/110 [==============================] - 84s 760ms/step - loss: 0.3544 - acc: 0.9353 - val_loss: 0.2402 - val_acc: 0.9296\n"
     ]
    }
   ],
   "source": [
    "RMSprop_history = model.fit_generator(\n",
    "        train_generator,\n",
    "        steps_per_epoch=(5522 / batchSize),\n",
    "        epochs=epochSize,\n",
    "        validation_data=validation_generator,\n",
    "        validation_steps=(1377 / batchSize))"
   ]
  },
  {
   "cell_type": "code",
   "execution_count": 20,
   "metadata": {},
   "outputs": [
    {
     "data": {
      "text/plain": [
       "dict_keys(['val_loss', 'val_acc', 'loss', 'acc'])"
      ]
     },
     "execution_count": 20,
     "metadata": {},
     "output_type": "execute_result"
    }
   ],
   "source": [
    "RMSprop_history.history.keys()"
   ]
  },
  {
   "cell_type": "code",
   "execution_count": 21,
   "metadata": {},
   "outputs": [],
   "source": [
    "RMSprop_loss = RMSprop_history.history['loss']\n",
    "RMSprop_val_loss = RMSprop_history.history['val_loss']\n",
    "RMSprop_acc = RMSprop_history.history['acc']\n",
    "RMSprop_val_acc = RMSprop_history.history['val_acc']\n",
    "RMSprop_epochs = range(len(RMSprop_acc))"
   ]
  },
  {
   "cell_type": "markdown",
   "metadata": {},
   "source": [
    "## Visualizing"
   ]
  },
  {
   "cell_type": "code",
   "execution_count": 22,
   "metadata": {},
   "outputs": [
    {
     "data": {
      "image/png": "[encoded data removed]",
      "text/plain": [
       "<Figure size 432x288 with 1 Axes>"
      ]
     },
     "metadata": {
      "needs_background": "light"
     },
     "output_type": "display_data"
    }
   ],
   "source": [
    "plt.plot(RMSprop_epochs, RMSprop_acc, 'red', label='Training Acc')\n",
    "plt.plot(RMSprop_epochs, RMSprop_val_acc, 'blue', label='Validation Acc')\n",
    "plt.xlabel('epochs')\n",
    "plt.ylabel('Acc')\n",
    "plt.legend()\n",
    "plt.show()"
   ]
  },
  {
   "cell_type": "code",
   "execution_count": 23,
   "metadata": {},
   "outputs": [
    {
     "data": {
      "image/png": "[encoded data removed]",
      "text/plain": [
       "<Figure size 432x288 with 1 Axes>"
      ]
     },
     "metadata": {
      "needs_background": "light"
     },
     "output_type": "display_data"
    }
   ],
   "source": [
    "plt.plot(RMSprop_epochs, RMSprop_loss, 'red', label='Training Loss')\n",
    "plt.plot(RMSprop_epochs, RMSprop_val_loss, 'blue', label='Validation Loss')\n",
    "plt.xlabel('epochs')\n",
    "plt.ylabel('Loss')\n",
    "plt.legend()\n",
    "plt.show()"
   ]
  },
  {
   "cell_type": "markdown",
   "metadata": {},
   "source": [
    "## Model preperation for Adagrad"
   ]
  },
  {
   "cell_type": "code",
   "execution_count": 24,
   "metadata": {},
   "outputs": [],
   "source": [
    "#model initializing\n",
    "model = Sequential()\n",
    "\n",
    "#adding conv2d and maxpool2d layers\n",
    "model.add(Conv2D(32, (3,3), activation='relu', input_shape=(dim1, dim2, 3)))\n",
    "model.add(MaxPool2D(pool_size=(2,2)))\n",
    "\n",
    "#2nd layer addition\n",
    "model.add(Conv2D(64, (3,3), activation='relu'))\n",
    "model.add(MaxPool2D(pool_size=(2,2)))\n",
    "\n",
    "model.add(Conv2D(128, (3,3), activation='relu'))\n",
    "model.add(MaxPool2D(pool_size=(2,2)))\n",
    "\n",
    "model.add(Flatten())"
   ]
  },
  {
   "cell_type": "code",
   "execution_count": 25,
   "metadata": {},
   "outputs": [],
   "source": [
    "#hidden layers\n",
    "model.add(Dense(256, activation='relu'))\n",
    "model.add(Dropout(rate=0.4))\n",
    "\n",
    "model.add(Dense(512, activation='relu'))\n",
    "model.add(Dropout(rate=0.3))\n",
    "\n",
    "model.add(Dense(256, activation='relu'))\n",
    "model.add(Dropout(rate=0.2))\n",
    "\n",
    "#output\n",
    "model.add(Dense(8, activation='softmax'))"
   ]
  },
  {
   "cell_type": "code",
   "execution_count": 26,
   "metadata": {},
   "outputs": [],
   "source": [
    "#model compilation - Adagrad\n",
    "model.compile(optimizer='Adagrad', loss='categorical_crossentropy', metrics=['accuracy'])"
   ]
  },
  {
   "cell_type": "code",
   "execution_count": 27,
   "metadata": {},
   "outputs": [
    {
     "name": "stdout",
     "output_type": "stream",
     "text": [
      "Epoch 1/60\n",
      "111/110 [==============================] - 92s 832ms/step - loss: 13.6940 - acc: 0.1432 - val_loss: 13.8239 - val_acc: 0.1423\n",
      "Epoch 2/60\n",
      "111/110 [==============================] - 85s 766ms/step - loss: 13.8737 - acc: 0.1392 - val_loss: 13.8122 - val_acc: 0.1431\n",
      "Epoch 3/60\n",
      "111/110 [==============================] - 85s 766ms/step - loss: 13.8040 - acc: 0.1436 - val_loss: 13.8239 - val_acc: 0.1423\n",
      "Epoch 4/60\n",
      "111/110 [==============================] - 85s 763ms/step - loss: 13.7806 - acc: 0.1450 - val_loss: 13.8473 - val_acc: 0.1409\n",
      "Epoch 5/60\n",
      "111/110 [==============================] - 85s 763ms/step - loss: 13.8272 - acc: 0.1421 - val_loss: 13.8356 - val_acc: 0.1416\n",
      "Epoch 6/60\n",
      "111/110 [==============================] - 85s 768ms/step - loss: 13.7858 - acc: 0.1447 - val_loss: 13.7888 - val_acc: 0.1445\n",
      "Epoch 7/60\n",
      "111/110 [==============================] - 85s 763ms/step - loss: 13.8613 - acc: 0.1400 - val_loss: 13.8356 - val_acc: 0.1416\n",
      "Epoch 8/60\n",
      "111/110 [==============================] - 84s 761ms/step - loss: 13.7721 - acc: 0.1456 - val_loss: 13.7302 - val_acc: 0.1481\n",
      "Epoch 9/60\n",
      "111/110 [==============================] - 85s 762ms/step - loss: 13.8054 - acc: 0.1435 - val_loss: 13.8941 - val_acc: 0.1380\n",
      "Epoch 10/60\n",
      "111/110 [==============================] - 84s 760ms/step - loss: 13.8919 - acc: 0.1381 - val_loss: 13.7536 - val_acc: 0.1467\n",
      "Epoch 11/60\n",
      "111/110 [==============================] - 84s 759ms/step - loss: 13.7176 - acc: 0.1489 - val_loss: 13.7888 - val_acc: 0.1445\n",
      "Epoch 12/60\n",
      "111/110 [==============================] - 84s 759ms/step - loss: 13.8404 - acc: 0.1413 - val_loss: 13.8473 - val_acc: 0.1409\n",
      "Epoch 13/60\n",
      "111/110 [==============================] - 84s 760ms/step - loss: 13.8476 - acc: 0.1409 - val_loss: 13.8005 - val_acc: 0.1438\n",
      "Epoch 14/60\n",
      "111/110 [==============================] - 85s 763ms/step - loss: 13.7887 - acc: 0.1445 - val_loss: 13.8005 - val_acc: 0.1438\n",
      "Epoch 15/60\n",
      "111/110 [==============================] - 84s 759ms/step - loss: 13.7895 - acc: 0.1445 - val_loss: 13.8941 - val_acc: 0.1380\n",
      "Epoch 16/60\n",
      "111/110 [==============================] - 85s 762ms/step - loss: 13.8317 - acc: 0.1419 - val_loss: 13.7419 - val_acc: 0.1474\n",
      "Epoch 17/60\n",
      "111/110 [==============================] - 85s 762ms/step - loss: 13.8178 - acc: 0.1427 - val_loss: 13.8590 - val_acc: 0.1402\n",
      "Epoch 18/60\n",
      "111/110 [==============================] - 84s 758ms/step - loss: 13.8454 - acc: 0.1410 - val_loss: 13.7302 - val_acc: 0.1481\n",
      "Epoch 19/60\n",
      "111/110 [==============================] - 85s 763ms/step - loss: 13.7931 - acc: 0.1442 - val_loss: 13.8707 - val_acc: 0.1394\n",
      "Epoch 20/60\n",
      "111/110 [==============================] - 84s 761ms/step - loss: 13.8288 - acc: 0.1420 - val_loss: 13.8239 - val_acc: 0.1423\n",
      "Epoch 21/60\n",
      "111/110 [==============================] - 85s 763ms/step - loss: 13.8077 - acc: 0.1433 - val_loss: 13.8239 - val_acc: 0.1423\n",
      "Epoch 22/60\n",
      "111/110 [==============================] - 84s 759ms/step - loss: 13.7974 - acc: 0.1440 - val_loss: 13.8122 - val_acc: 0.1431\n",
      "Epoch 23/60\n",
      "111/110 [==============================] - 85s 764ms/step - loss: 13.8476 - acc: 0.1409 - val_loss: 13.8005 - val_acc: 0.1438\n",
      "Epoch 24/60\n",
      "111/110 [==============================] - 84s 761ms/step - loss: 13.8317 - acc: 0.1419 - val_loss: 13.7888 - val_acc: 0.1445\n",
      "Epoch 25/60\n",
      "111/110 [==============================] - 85s 763ms/step - loss: 13.8149 - acc: 0.1429 - val_loss: 13.8473 - val_acc: 0.1409\n",
      "Epoch 26/60\n",
      "111/110 [==============================] - 85s 762ms/step - loss: 13.8193 - acc: 0.1426 - val_loss: 13.7771 - val_acc: 0.1452\n",
      "Epoch 27/60\n",
      "111/110 [==============================] - 85s 766ms/step - loss: 13.7808 - acc: 0.1450 - val_loss: 13.8473 - val_acc: 0.1409\n",
      "Epoch 28/60\n",
      "111/110 [==============================] - 85s 763ms/step - loss: 13.8454 - acc: 0.1410 - val_loss: 13.8122 - val_acc: 0.1431\n",
      "Epoch 29/60\n",
      "111/110 [==============================] - 84s 760ms/step - loss: 13.8606 - acc: 0.1401 - val_loss: 13.7888 - val_acc: 0.1445\n",
      "Epoch 30/60\n",
      "111/110 [==============================] - 84s 760ms/step - loss: 13.8048 - acc: 0.1435 - val_loss: 13.8122 - val_acc: 0.1431\n",
      "Epoch 31/60\n",
      "111/110 [==============================] - 85s 762ms/step - loss: 13.7859 - acc: 0.1447 - val_loss: 13.8824 - val_acc: 0.1387\n",
      "Epoch 32/60\n",
      "111/110 [==============================] - 85s 764ms/step - loss: 13.8243 - acc: 0.1423 - val_loss: 13.7302 - val_acc: 0.1481\n",
      "Epoch 33/60\n",
      "111/110 [==============================] - 84s 759ms/step - loss: 13.7728 - acc: 0.1455 - val_loss: 13.8239 - val_acc: 0.1423\n",
      "Epoch 34/60\n",
      "111/110 [==============================] - 85s 764ms/step - loss: 13.8404 - acc: 0.1413 - val_loss: 13.7419 - val_acc: 0.1474\n",
      "Epoch 35/60\n",
      "111/110 [==============================] - 84s 760ms/step - loss: 13.8236 - acc: 0.1424 - val_loss: 13.8707 - val_acc: 0.1394\n",
      "Epoch 36/60\n",
      "111/110 [==============================] - 85s 764ms/step - loss: 13.7589 - acc: 0.1464 - val_loss: 13.8590 - val_acc: 0.1402\n",
      "Epoch 37/60\n",
      "111/110 [==============================] - 85s 762ms/step - loss: 13.8991 - acc: 0.1377 - val_loss: 13.7888 - val_acc: 0.1445\n",
      "Epoch 38/60\n",
      "111/110 [==============================] - 85s 765ms/step - loss: 13.7750 - acc: 0.1454 - val_loss: 13.7302 - val_acc: 0.1481\n",
      "Epoch 39/60\n",
      "111/110 [==============================] - 85s 767ms/step - loss: 13.8570 - acc: 0.1403 - val_loss: 13.8590 - val_acc: 0.1402\n",
      "Epoch 40/60\n",
      "111/110 [==============================] - 84s 761ms/step - loss: 13.8534 - acc: 0.1405 - val_loss: 13.8473 - val_acc: 0.1409\n",
      "Epoch 41/60\n",
      "111/110 [==============================] - 85s 765ms/step - loss: 13.7517 - acc: 0.1468 - val_loss: 13.7653 - val_acc: 0.1460\n",
      "Epoch 42/60\n",
      "111/110 [==============================] - 84s 760ms/step - loss: 13.8106 - acc: 0.1432 - val_loss: 13.8356 - val_acc: 0.1416\n",
      "Epoch 43/60\n",
      "111/110 [==============================] - 85s 762ms/step - loss: 13.8315 - acc: 0.1419 - val_loss: 13.8590 - val_acc: 0.1402\n",
      "Epoch 44/60\n",
      "111/110 [==============================] - 84s 758ms/step - loss: 13.8171 - acc: 0.1428 - val_loss: 13.7068 - val_acc: 0.1496\n",
      "Epoch 45/60\n",
      "111/110 [==============================] - 85s 765ms/step - loss: 13.8091 - acc: 0.1433 - val_loss: 13.9058 - val_acc: 0.1373\n",
      "Epoch 46/60\n",
      "111/110 [==============================] - 85s 762ms/step - loss: 13.8375 - acc: 0.1415 - val_loss: 13.8005 - val_acc: 0.1438\n",
      "Epoch 47/60\n",
      "111/110 [==============================] - 85s 762ms/step - loss: 13.8142 - acc: 0.1429 - val_loss: 13.7771 - val_acc: 0.1452\n",
      "Epoch 48/60\n",
      "111/110 [==============================] - 84s 760ms/step - loss: 13.8142 - acc: 0.1429 - val_loss: 13.8122 - val_acc: 0.1431\n",
      "Epoch 49/60\n",
      "111/110 [==============================] - 85s 766ms/step - loss: 13.8410 - acc: 0.1413 - val_loss: 13.8005 - val_acc: 0.1438\n",
      "Epoch 50/60\n",
      "111/110 [==============================] - 84s 761ms/step - loss: 13.7517 - acc: 0.1468 - val_loss: 13.9175 - val_acc: 0.1365\n",
      "Epoch 51/60\n",
      "111/110 [==============================] - 84s 760ms/step - loss: 13.8346 - acc: 0.1417 - val_loss: 13.7536 - val_acc: 0.1467\n",
      "Epoch 52/60\n",
      "111/110 [==============================] - 85s 764ms/step - loss: 13.8462 - acc: 0.1410 - val_loss: 13.7888 - val_acc: 0.1445\n",
      "Epoch 53/60\n",
      "111/110 [==============================] - 84s 760ms/step - loss: 13.8460 - acc: 0.1410 - val_loss: 13.8122 - val_acc: 0.1431\n",
      "Epoch 54/60\n",
      "111/110 [==============================] - 84s 760ms/step - loss: 13.7438 - acc: 0.1473 - val_loss: 13.7888 - val_acc: 0.1445\n",
      "Epoch 55/60\n",
      "111/110 [==============================] - 84s 759ms/step - loss: 13.8309 - acc: 0.1419 - val_loss: 13.8590 - val_acc: 0.1402\n",
      "Epoch 56/60\n",
      "111/110 [==============================] - 85s 763ms/step - loss: 13.8222 - acc: 0.1424 - val_loss: 13.7771 - val_acc: 0.1452\n",
      "Epoch 57/60\n",
      "111/110 [==============================] - 84s 759ms/step - loss: 13.8541 - acc: 0.1405 - val_loss: 13.8824 - val_acc: 0.1387\n",
      "Epoch 58/60\n",
      "111/110 [==============================] - 85s 763ms/step - loss: 13.7779 - acc: 0.1452 - val_loss: 13.7419 - val_acc: 0.1474\n",
      "Epoch 59/60\n",
      "111/110 [==============================] - 85s 761ms/step - loss: 13.8751 - acc: 0.1392 - val_loss: 13.8005 - val_acc: 0.1438\n",
      "Epoch 60/60\n",
      "111/110 [==============================] - 84s 761ms/step - loss: 13.7931 - acc: 0.1442 - val_loss: 13.8005 - val_acc: 0.1438\n"
     ]
    }
   ],
   "source": [
    "Adagrad_history = model.fit_generator(\n",
    "        train_generator,\n",
    "        steps_per_epoch=(5522 / batchSize),\n",
    "        epochs=epochSize,\n",
    "        validation_data=validation_generator,\n",
    "        validation_steps=(1377 / batchSize))"
   ]
  },
  {
   "cell_type": "code",
   "execution_count": 28,
   "metadata": {},
   "outputs": [
    {
     "data": {
      "text/plain": [
       "dict_keys(['val_loss', 'val_acc', 'loss', 'acc'])"
      ]
     },
     "execution_count": 28,
     "metadata": {},
     "output_type": "execute_result"
    }
   ],
   "source": [
    "Adagrad_history.history.keys()"
   ]
  },
  {
   "cell_type": "code",
   "execution_count": 29,
   "metadata": {},
   "outputs": [],
   "source": [
    "Adagrad_loss = Adagrad_history.history['loss']\n",
    "Adagrad_val_loss = Adagrad_history.history['val_loss']\n",
    "Adagrad_acc = Adagrad_history.history['acc']\n",
    "Adagrad_val_acc = Adagrad_history.history['val_acc']\n",
    "Adagrad_epochs = range(len(Adagrad_acc))"
   ]
  },
  {
   "cell_type": "markdown",
   "metadata": {},
   "source": [
    "## Visualizing"
   ]
  },
  {
   "cell_type": "code",
   "execution_count": 30,
   "metadata": {},
   "outputs": [
    {
     "data": {
      "image/png": "[encoded data removed]",
      "text/plain": [
       "<Figure size 432x288 with 1 Axes>"
      ]
     },
     "metadata": {
      "needs_background": "light"
     },
     "output_type": "display_data"
    }
   ],
   "source": [
    "plt.plot(Adagrad_epochs, Adagrad_acc, 'red', label='Training Acc')\n",
    "plt.plot(Adagrad_epochs, Adagrad_val_acc, 'blue', label='Validation Acc')\n",
    "plt.xlabel('epochs')\n",
    "plt.ylabel('Acc')\n",
    "plt.legend()\n",
    "plt.show()"
   ]
  },
  {
   "cell_type": "code",
   "execution_count": 31,
   "metadata": {},
   "outputs": [
    {
     "data": {
      "image/png": "[encoded data removed]",
      "text/plain": [
       "<Figure size 432x288 with 1 Axes>"
      ]
     },
     "metadata": {
      "needs_background": "light"
     },
     "output_type": "display_data"
    }
   ],
   "source": [
    "plt.plot(Adagrad_epochs, Adagrad_loss, 'red', label='Training Loss')\n",
    "plt.plot(Adagrad_epochs, Adagrad_val_loss, 'blue', label='Validation Loss')\n",
    "plt.xlabel('epochs')\n",
    "plt.ylabel('Loss')\n",
    "plt.legend()\n",
    "plt.show()"
   ]
  },
  {
   "cell_type": "markdown",
   "metadata": {},
   "source": [
    "## Model preperation for Adadelta"
   ]
  },
  {
   "cell_type": "code",
   "execution_count": 32,
   "metadata": {},
   "outputs": [],
   "source": [
    "#model initializing\n",
    "model = Sequential()\n",
    "\n",
    "#adding conv2d and maxpool2d layers\n",
    "model.add(Conv2D(32, (3,3), activation='relu', input_shape=(dim1, dim2, 3)))\n",
    "model.add(MaxPool2D(pool_size=(2,2)))\n",
    "\n",
    "#2nd layer addition\n",
    "model.add(Conv2D(64, (3,3), activation='relu'))\n",
    "model.add(MaxPool2D(pool_size=(2,2)))\n",
    "\n",
    "model.add(Conv2D(128, (3,3), activation='relu'))\n",
    "model.add(MaxPool2D(pool_size=(2,2)))\n",
    "\n",
    "model.add(Flatten())"
   ]
  },
  {
   "cell_type": "code",
   "execution_count": 33,
   "metadata": {},
   "outputs": [],
   "source": [
    "#hidden layers\n",
    "model.add(Dense(256, activation='relu'))\n",
    "model.add(Dropout(rate=0.4))\n",
    "\n",
    "model.add(Dense(512, activation='relu'))\n",
    "model.add(Dropout(rate=0.3))\n",
    "\n",
    "model.add(Dense(256, activation='relu'))\n",
    "model.add(Dropout(rate=0.2))\n",
    "\n",
    "#output\n",
    "model.add(Dense(8, activation='softmax'))"
   ]
  },
  {
   "cell_type": "code",
   "execution_count": 34,
   "metadata": {},
   "outputs": [],
   "source": [
    "#model compilation - Adadelta\n",
    "model.compile(optimizer='Adadelta', loss='categorical_crossentropy', metrics=['accuracy'])"
   ]
  },
  {
   "cell_type": "code",
   "execution_count": 35,
   "metadata": {},
   "outputs": [
    {
     "name": "stdout",
     "output_type": "stream",
     "text": [
      "Epoch 1/30\n",
      "111/110 [==============================] - 93s 836ms/step - loss: 1.8100 - acc: 0.3185 - val_loss: 1.1904 - val_acc: 0.6144\n",
      "Epoch 2/30\n",
      "111/110 [==============================] - 84s 761ms/step - loss: 0.9589 - acc: 0.6637 - val_loss: 0.9814 - val_acc: 0.6115\n",
      "Epoch 3/30\n",
      "111/110 [==============================] - 85s 767ms/step - loss: 0.5906 - acc: 0.7847 - val_loss: 0.8425 - val_acc: 0.7117\n",
      "Epoch 4/30\n",
      "111/110 [==============================] - 84s 761ms/step - loss: 0.4721 - acc: 0.8285 - val_loss: 0.4160 - val_acc: 0.8373\n",
      "Epoch 5/30\n",
      "111/110 [==============================] - 85s 765ms/step - loss: 0.4098 - acc: 0.8457 - val_loss: 0.4283 - val_acc: 0.8301\n",
      "Epoch 6/30\n",
      "111/110 [==============================] - 85s 763ms/step - loss: 0.3669 - acc: 0.8646 - val_loss: 0.3535 - val_acc: 0.8729\n",
      "Epoch 7/30\n",
      "111/110 [==============================] - 85s 766ms/step - loss: 0.3360 - acc: 0.8729 - val_loss: 0.4423 - val_acc: 0.8519\n",
      "Epoch 8/30\n",
      "111/110 [==============================] - 85s 761ms/step - loss: 0.3080 - acc: 0.8819 - val_loss: 0.3159 - val_acc: 0.8787\n",
      "Epoch 9/30\n",
      "111/110 [==============================] - 85s 762ms/step - loss: 0.2874 - acc: 0.8947 - val_loss: 0.2744 - val_acc: 0.8991\n",
      "Epoch 10/30\n",
      "111/110 [==============================] - 85s 763ms/step - loss: 0.2352 - acc: 0.9095 - val_loss: 0.3688 - val_acc: 0.8671\n",
      "Epoch 11/30\n",
      "111/110 [==============================] - 84s 759ms/step - loss: 0.2295 - acc: 0.9123 - val_loss: 0.2840 - val_acc: 0.9034\n",
      "Epoch 12/30\n",
      "111/110 [==============================] - 85s 763ms/step - loss: 0.2192 - acc: 0.9198 - val_loss: 0.2746 - val_acc: 0.8991\n",
      "Epoch 13/30\n",
      "111/110 [==============================] - 84s 760ms/step - loss: 0.2129 - acc: 0.9205 - val_loss: 0.2596 - val_acc: 0.9165\n",
      "Epoch 14/30\n",
      "111/110 [==============================] - 85s 765ms/step - loss: 0.1939 - acc: 0.9290 - val_loss: 0.2471 - val_acc: 0.9129\n",
      "Epoch 15/30\n",
      "111/110 [==============================] - 85s 761ms/step - loss: 0.1692 - acc: 0.9376 - val_loss: 0.2552 - val_acc: 0.9179\n",
      "Epoch 16/30\n",
      "111/110 [==============================] - 85s 764ms/step - loss: 0.1695 - acc: 0.9406 - val_loss: 0.2510 - val_acc: 0.9187\n",
      "Epoch 17/30\n",
      "111/110 [==============================] - 85s 767ms/step - loss: 0.1603 - acc: 0.9432 - val_loss: 0.2361 - val_acc: 0.9259\n",
      "Epoch 18/30\n",
      "111/110 [==============================] - 84s 759ms/step - loss: 0.1471 - acc: 0.9486 - val_loss: 0.1923 - val_acc: 0.9317\n",
      "Epoch 19/30\n",
      "111/110 [==============================] - 85s 764ms/step - loss: 0.1538 - acc: 0.9448 - val_loss: 0.2898 - val_acc: 0.9143\n",
      "Epoch 20/30\n",
      "111/110 [==============================] - 85s 762ms/step - loss: 0.1363 - acc: 0.9548 - val_loss: 0.2134 - val_acc: 0.9296\n",
      "Epoch 21/30\n",
      "111/110 [==============================] - 85s 764ms/step - loss: 0.1348 - acc: 0.9543 - val_loss: 0.2169 - val_acc: 0.9252\n",
      "Epoch 22/30\n",
      "111/110 [==============================] - 84s 761ms/step - loss: 0.1147 - acc: 0.9586 - val_loss: 0.2703 - val_acc: 0.9194\n",
      "Epoch 23/30\n",
      "111/110 [==============================] - 84s 760ms/step - loss: 0.1214 - acc: 0.9545 - val_loss: 0.2947 - val_acc: 0.9208\n",
      "Epoch 24/30\n",
      "111/110 [==============================] - 85s 766ms/step - loss: 0.1012 - acc: 0.9677 - val_loss: 0.2196 - val_acc: 0.9303\n",
      "Epoch 25/30\n",
      "111/110 [==============================] - 84s 758ms/step - loss: 0.1076 - acc: 0.9614 - val_loss: 0.2634 - val_acc: 0.9237\n",
      "Epoch 26/30\n",
      "111/110 [==============================] - 84s 760ms/step - loss: 0.1074 - acc: 0.9639 - val_loss: 0.2088 - val_acc: 0.9368\n",
      "Epoch 27/30\n",
      "111/110 [==============================] - 85s 763ms/step - loss: 0.1199 - acc: 0.9603 - val_loss: 0.2450 - val_acc: 0.9259\n",
      "Epoch 28/30\n",
      "111/110 [==============================] - 85s 765ms/step - loss: 0.0990 - acc: 0.9663 - val_loss: 0.2207 - val_acc: 0.9288\n",
      "Epoch 29/30\n",
      "111/110 [==============================] - 85s 764ms/step - loss: 0.0912 - acc: 0.9708 - val_loss: 0.3458 - val_acc: 0.9049\n",
      "Epoch 30/30\n",
      "111/110 [==============================] - 84s 761ms/step - loss: 0.0841 - acc: 0.9719 - val_loss: 0.2208 - val_acc: 0.9383\n"
     ]
    }
   ],
   "source": [
    "#epochSize edited\n",
    "epochSize = 30\n",
    "\n",
    "Adadelta_history = model.fit_generator(\n",
    "        train_generator,\n",
    "        steps_per_epoch=(5522 / batchSize),\n",
    "        epochs=epochSize,\n",
    "        validation_data=validation_generator,\n",
    "        validation_steps=(1377 / batchSize))"
   ]
  },
  {
   "cell_type": "code",
   "execution_count": 36,
   "metadata": {},
   "outputs": [
    {
     "data": {
      "text/plain": [
       "dict_keys(['val_loss', 'val_acc', 'loss', 'acc'])"
      ]
     },
     "execution_count": 36,
     "metadata": {},
     "output_type": "execute_result"
    }
   ],
   "source": [
    "Adadelta_history.history.keys()"
   ]
  },
  {
   "cell_type": "code",
   "execution_count": 37,
   "metadata": {},
   "outputs": [],
   "source": [
    "Adadelta_loss = Adadelta_history.history['loss']\n",
    "Adadelta_val_loss = Adadelta_history.history['val_loss']\n",
    "Adadelta_acc = Adadelta_history.history['acc']\n",
    "Adadelta_val_acc = Adadelta_history.history['val_acc']\n",
    "Adadelta_epochs = range(len(Adadelta_acc))"
   ]
  },
  {
   "cell_type": "markdown",
   "metadata": {},
   "source": [
    "## Visualizing"
   ]
  },
  {
   "cell_type": "code",
   "execution_count": 38,
   "metadata": {},
   "outputs": [
    {
     "data": {
      "image/png": "[encoded data removed]",
      "text/plain": [
       "<Figure size 432x288 with 1 Axes>"
      ]
     },
     "metadata": {
      "needs_background": "light"
     },
     "output_type": "display_data"
    }
   ],
   "source": [
    "plt.plot(Adadelta_epochs, Adadelta_acc, 'red', label='Training Acc')\n",
    "plt.plot(Adadelta_epochs, Adadelta_val_acc, 'blue', label='Validation Acc')\n",
    "plt.xlabel('epochs')\n",
    "plt.ylabel('Acc')\n",
    "plt.legend()\n",
    "plt.show()"
   ]
  },
  {
   "cell_type": "code",
   "execution_count": 39,
   "metadata": {},
   "outputs": [
    {
     "data": {
      "image/png": "[encoded data removed]",
      "text/plain": [
       "<Figure size 432x288 with 1 Axes>"
      ]
     },
     "metadata": {
      "needs_background": "light"
     },
     "output_type": "display_data"
    }
   ],
   "source": [
    "plt.plot(Adadelta_epochs, Adadelta_loss, 'red', label='Training Loss')\n",
    "plt.plot(Adadelta_epochs, Adadelta_val_loss, 'blue', label='Validation Loss')\n",
    "plt.xlabel('epochs')\n",
    "plt.ylabel('Loss')\n",
    "plt.legend()\n",
    "plt.show()"
   ]
  },
  {
   "cell_type": "markdown",
   "metadata": {},
   "source": [
    "## Model preperation for Adamax"
   ]
  },
  {
   "cell_type": "code",
   "execution_count": 40,
   "metadata": {},
   "outputs": [],
   "source": [
    "#model initializing\n",
    "model = Sequential()\n",
    "\n",
    "#adding conv2d and maxpool2d layers\n",
    "model.add(Conv2D(32, (3,3), activation='relu', input_shape=(dim1, dim2, 3)))\n",
    "model.add(MaxPool2D(pool_size=(2,2)))\n",
    "\n",
    "#2nd layer addition\n",
    "model.add(Conv2D(64, (3,3), activation='relu'))\n",
    "model.add(MaxPool2D(pool_size=(2,2)))\n",
    "\n",
    "model.add(Conv2D(128, (3,3), activation='relu'))\n",
    "model.add(MaxPool2D(pool_size=(2,2)))\n",
    "\n",
    "model.add(Flatten())"
   ]
  },
  {
   "cell_type": "code",
   "execution_count": 41,
   "metadata": {},
   "outputs": [],
   "source": [
    "#hidden layers\n",
    "model.add(Dense(256, activation='relu'))\n",
    "model.add(Dropout(rate=0.4))\n",
    "\n",
    "model.add(Dense(512, activation='relu'))\n",
    "model.add(Dropout(rate=0.3))\n",
    "\n",
    "model.add(Dense(256, activation='relu'))\n",
    "model.add(Dropout(rate=0.2))\n",
    "\n",
    "#output\n",
    "model.add(Dense(8, activation='softmax'))"
   ]
  },
  {
   "cell_type": "code",
   "execution_count": 42,
   "metadata": {},
   "outputs": [],
   "source": [
    "#model compilation - Adamax\n",
    "model.compile(optimizer='Adamax', loss='categorical_crossentropy', metrics=['accuracy'])"
   ]
  },
  {
   "cell_type": "code",
   "execution_count": 43,
   "metadata": {},
   "outputs": [
    {
     "name": "stdout",
     "output_type": "stream",
     "text": [
      "Epoch 1/30\n",
      "111/110 [==============================] - 93s 834ms/step - loss: 1.5000 - acc: 0.4779 - val_loss: 0.7960 - val_acc: 0.7052\n",
      "Epoch 2/30\n",
      "111/110 [==============================] - 84s 760ms/step - loss: 0.6150 - acc: 0.7752 - val_loss: 0.5974 - val_acc: 0.7894\n",
      "Epoch 3/30\n",
      "111/110 [==============================] - 84s 760ms/step - loss: 0.4711 - acc: 0.8200 - val_loss: 0.5404 - val_acc: 0.8097\n",
      "Epoch 4/30\n",
      "111/110 [==============================] - 84s 758ms/step - loss: 0.3913 - acc: 0.8477 - val_loss: 0.3746 - val_acc: 0.8577\n",
      "Epoch 5/30\n",
      "111/110 [==============================] - 85s 762ms/step - loss: 0.3295 - acc: 0.8695 - val_loss: 0.3278 - val_acc: 0.8853\n",
      "Epoch 6/30\n",
      "111/110 [==============================] - 84s 757ms/step - loss: 0.3114 - acc: 0.8782 - val_loss: 0.4094 - val_acc: 0.8664\n",
      "Epoch 7/30\n",
      "111/110 [==============================] - 84s 756ms/step - loss: 0.2850 - acc: 0.8932 - val_loss: 0.3091 - val_acc: 0.8925\n",
      "Epoch 8/30\n",
      "111/110 [==============================] - 84s 760ms/step - loss: 0.2506 - acc: 0.9017 - val_loss: 0.2581 - val_acc: 0.9085\n",
      "Epoch 9/30\n",
      "111/110 [==============================] - 96s 861ms/step - loss: 0.2333 - acc: 0.9098 - val_loss: 0.3023 - val_acc: 0.9034\n",
      "Epoch 10/30\n",
      "111/110 [==============================] - 117s 1s/step - loss: 0.2109 - acc: 0.9154 - val_loss: 0.2649 - val_acc: 0.9056\n",
      "Epoch 11/30\n",
      "111/110 [==============================] - 88s 793ms/step - loss: 0.1870 - acc: 0.9281 - val_loss: 0.2348 - val_acc: 0.9143\n",
      "Epoch 12/30\n",
      "111/110 [==============================] - 87s 783ms/step - loss: 0.1845 - acc: 0.9309 - val_loss: 0.2548 - val_acc: 0.9179\n",
      "Epoch 13/30\n",
      "111/110 [==============================] - 87s 781ms/step - loss: 0.1680 - acc: 0.9358 - val_loss: 0.2571 - val_acc: 0.9121\n",
      "Epoch 14/30\n",
      "111/110 [==============================] - 85s 769ms/step - loss: 0.1688 - acc: 0.9369 - val_loss: 0.2763 - val_acc: 0.9143\n",
      "Epoch 15/30\n",
      "111/110 [==============================] - 86s 771ms/step - loss: 0.1581 - acc: 0.9424 - val_loss: 0.2221 - val_acc: 0.9296\n",
      "Epoch 16/30\n",
      "111/110 [==============================] - 85s 763ms/step - loss: 0.1274 - acc: 0.9517 - val_loss: 0.2352 - val_acc: 0.9216\n",
      "Epoch 17/30\n",
      "111/110 [==============================] - 85s 765ms/step - loss: 0.1337 - acc: 0.9470 - val_loss: 0.2381 - val_acc: 0.9267\n",
      "Epoch 18/30\n",
      "111/110 [==============================] - 85s 763ms/step - loss: 0.1238 - acc: 0.9540 - val_loss: 0.1920 - val_acc: 0.9390\n",
      "Epoch 19/30\n",
      "111/110 [==============================] - 85s 766ms/step - loss: 0.1322 - acc: 0.9499 - val_loss: 0.1682 - val_acc: 0.9455\n",
      "Epoch 20/30\n",
      "111/110 [==============================] - 85s 767ms/step - loss: 0.1258 - acc: 0.9513 - val_loss: 0.1685 - val_acc: 0.9455\n",
      "Epoch 21/30\n",
      "111/110 [==============================] - 85s 765ms/step - loss: 0.1092 - acc: 0.9607 - val_loss: 0.2851 - val_acc: 0.9172\n",
      "Epoch 22/30\n",
      "111/110 [==============================] - 102s 916ms/step - loss: 0.1028 - acc: 0.9623 - val_loss: 0.2498 - val_acc: 0.9208\n",
      "Epoch 23/30\n",
      "111/110 [==============================] - 109s 978ms/step - loss: 0.1153 - acc: 0.9555 - val_loss: 0.2058 - val_acc: 0.9259\n",
      "Epoch 24/30\n",
      "111/110 [==============================] - 88s 792ms/step - loss: 0.1014 - acc: 0.9605 - val_loss: 0.1846 - val_acc: 0.9346\n",
      "Epoch 25/30\n",
      "111/110 [==============================] - 87s 780ms/step - loss: 0.0971 - acc: 0.9639 - val_loss: 0.2101 - val_acc: 0.9346\n",
      "Epoch 26/30\n",
      "111/110 [==============================] - 85s 769ms/step - loss: 0.1003 - acc: 0.9618 - val_loss: 0.2376 - val_acc: 0.9223\n",
      "Epoch 27/30\n",
      "111/110 [==============================] - 85s 767ms/step - loss: 0.0988 - acc: 0.9645 - val_loss: 0.1985 - val_acc: 0.9325\n",
      "Epoch 28/30\n",
      "111/110 [==============================] - 85s 766ms/step - loss: 0.0801 - acc: 0.9721 - val_loss: 0.2157 - val_acc: 0.9390\n",
      "Epoch 29/30\n",
      "111/110 [==============================] - 86s 776ms/step - loss: 0.0732 - acc: 0.9732 - val_loss: 0.2253 - val_acc: 0.9325\n",
      "Epoch 30/30\n",
      "111/110 [==============================] - 85s 768ms/step - loss: 0.0779 - acc: 0.9726 - val_loss: 0.1708 - val_acc: 0.9448\n"
     ]
    }
   ],
   "source": [
    "Adamax_history = model.fit_generator(\n",
    "        train_generator,\n",
    "        steps_per_epoch=(5522 / batchSize),\n",
    "        epochs=epochSize,\n",
    "        validation_data=validation_generator,\n",
    "        validation_steps=(1377 / batchSize))"
   ]
  },
  {
   "cell_type": "code",
   "execution_count": 44,
   "metadata": {},
   "outputs": [
    {
     "data": {
      "text/plain": [
       "dict_keys(['val_loss', 'val_acc', 'loss', 'acc'])"
      ]
     },
     "execution_count": 44,
     "metadata": {},
     "output_type": "execute_result"
    }
   ],
   "source": [
    "Adamax_history.history.keys()"
   ]
  },
  {
   "cell_type": "code",
   "execution_count": 45,
   "metadata": {},
   "outputs": [],
   "source": [
    "Adamax_loss = Adamax_history.history['loss']\n",
    "Adamax_val_loss = Adamax_history.history['val_loss']\n",
    "Adamax_acc = Adamax_history.history['acc']\n",
    "Adamax_val_acc = Adamax_history.history['val_acc']\n",
    "Adamax_epochs = range(len(Adamax_acc))"
   ]
  },
  {
   "cell_type": "markdown",
   "metadata": {},
   "source": [
    "## Visualizing"
   ]
  },
  {
   "cell_type": "code",
   "execution_count": 46,
   "metadata": {},
   "outputs": [
    {
     "data": {
      "image/png": "[encoded data removed]",
      "text/plain": [
       "<Figure size 432x288 with 1 Axes>"
      ]
     },
     "metadata": {
      "needs_background": "light"
     },
     "output_type": "display_data"
    }
   ],
   "source": [
    "plt.plot(Adamax_epochs, Adamax_acc, 'red', label='Training Acc')\n",
    "plt.plot(Adamax_epochs, Adamax_val_acc, 'blue', label='Validation Acc')\n",
    "plt.xlabel('epochs')\n",
    "plt.ylabel('Acc')\n",
    "plt.legend()\n",
    "plt.show()"
   ]
  },
  {
   "cell_type": "code",
   "execution_count": 47,
   "metadata": {},
   "outputs": [
    {
     "data": {
      "image/png": "[encoded data removed]",
      "text/plain": [
       "<Figure size 432x288 with 1 Axes>"
      ]
     },
     "metadata": {
      "needs_background": "light"
     },
     "output_type": "display_data"
    }
   ],
   "source": [
    "plt.plot(Adamax_epochs, Adamax_loss, 'red', label='Training Loss')\n",
    "plt.plot(Adamax_epochs, Adamax_val_loss, 'blue', label='Validation Loss')\n",
    "plt.xlabel('epochs')\n",
    "plt.ylabel('Loss')\n",
    "plt.legend()\n",
    "plt.show()"
   ]
  },
  {
   "cell_type": "markdown",
   "metadata": {},
   "source": [
    "## Model preperation for Nadam"
   ]
  },
  {
   "cell_type": "code",
   "execution_count": 48,
   "metadata": {},
   "outputs": [],
   "source": [
    "#model initializing\n",
    "model = Sequential()\n",
    "\n",
    "#adding conv2d and maxpool2d layers\n",
    "model.add(Conv2D(32, (3,3), activation='relu', input_shape=(dim1, dim2, 3)))\n",
    "model.add(MaxPool2D(pool_size=(2,2)))\n",
    "\n",
    "#2nd layer addition\n",
    "model.add(Conv2D(64, (3,3), activation='relu'))\n",
    "model.add(MaxPool2D(pool_size=(2,2)))\n",
    "\n",
    "model.add(Conv2D(128, (3,3), activation='relu'))\n",
    "model.add(MaxPool2D(pool_size=(2,2)))\n",
    "\n",
    "model.add(Flatten())"
   ]
  },
  {
   "cell_type": "code",
   "execution_count": 49,
   "metadata": {},
   "outputs": [],
   "source": [
    "#hidden layers\n",
    "model.add(Dense(256, activation='relu'))\n",
    "model.add(Dropout(rate=0.4))\n",
    "\n",
    "model.add(Dense(512, activation='relu'))\n",
    "model.add(Dropout(rate=0.3))\n",
    "\n",
    "model.add(Dense(256, activation='relu'))\n",
    "model.add(Dropout(rate=0.2))\n",
    "\n",
    "#output\n",
    "model.add(Dense(8, activation='softmax'))"
   ]
  },
  {
   "cell_type": "code",
   "execution_count": 50,
   "metadata": {},
   "outputs": [],
   "source": [
    "#model compilation - Nadam\n",
    "model.compile(optimizer='Nadam', loss='categorical_crossentropy', metrics=['accuracy'])"
   ]
  },
  {
   "cell_type": "code",
   "execution_count": 51,
   "metadata": {},
   "outputs": [
    {
     "name": "stdout",
     "output_type": "stream",
     "text": [
      "Epoch 1/30\n",
      "111/110 [==============================] - 93s 840ms/step - loss: 2.0312 - acc: 0.3260 - val_loss: 1.7757 - val_acc: 0.4459\n",
      "Epoch 2/30\n",
      "111/110 [==============================] - 86s 772ms/step - loss: 1.3049 - acc: 0.5545 - val_loss: 0.8245 - val_acc: 0.7124\n",
      "Epoch 3/30\n",
      "111/110 [==============================] - 85s 768ms/step - loss: 0.8390 - acc: 0.6945 - val_loss: 0.6714 - val_acc: 0.7778\n",
      "Epoch 4/30\n",
      "111/110 [==============================] - 85s 765ms/step - loss: 0.6113 - acc: 0.7774 - val_loss: 0.5293 - val_acc: 0.8061\n",
      "Epoch 5/30\n",
      "111/110 [==============================] - 85s 765ms/step - loss: 0.5673 - acc: 0.7959 - val_loss: 0.6892 - val_acc: 0.7393\n",
      "Epoch 6/30\n",
      "111/110 [==============================] - 86s 774ms/step - loss: 0.5245 - acc: 0.8090 - val_loss: 0.5358 - val_acc: 0.8257\n",
      "Epoch 7/30\n",
      "111/110 [==============================] - 85s 766ms/step - loss: 0.3940 - acc: 0.8513 - val_loss: 0.3647 - val_acc: 0.8656\n",
      "Epoch 8/30\n",
      "111/110 [==============================] - 85s 768ms/step - loss: 0.3542 - acc: 0.8660 - val_loss: 0.3340 - val_acc: 0.8816\n",
      "Epoch 9/30\n",
      "111/110 [==============================] - 86s 774ms/step - loss: 0.3290 - acc: 0.8752 - val_loss: 0.3986 - val_acc: 0.8577\n",
      "Epoch 10/30\n",
      "111/110 [==============================] - 85s 767ms/step - loss: 0.3030 - acc: 0.8885 - val_loss: 0.3000 - val_acc: 0.8903\n",
      "Epoch 11/30\n",
      "111/110 [==============================] - 85s 765ms/step - loss: 0.3115 - acc: 0.8936 - val_loss: 0.3906 - val_acc: 0.8722\n",
      "Epoch 12/30\n",
      "111/110 [==============================] - 85s 766ms/step - loss: 0.2993 - acc: 0.8910 - val_loss: 0.2692 - val_acc: 0.9063\n",
      "Epoch 13/30\n",
      "111/110 [==============================] - 86s 774ms/step - loss: 0.2643 - acc: 0.9060 - val_loss: 0.3837 - val_acc: 0.8744\n",
      "Epoch 14/30\n",
      "111/110 [==============================] - 85s 764ms/step - loss: 1.3284 - acc: 0.6675 - val_loss: 0.3880 - val_acc: 0.8649\n",
      "Epoch 15/30\n",
      "111/110 [==============================] - 85s 768ms/step - loss: 0.3812 - acc: 0.8679 - val_loss: 0.3829 - val_acc: 0.8860\n",
      "Epoch 16/30\n",
      "111/110 [==============================] - 86s 771ms/step - loss: 0.2756 - acc: 0.9047 - val_loss: 0.3660 - val_acc: 0.8809\n",
      "Epoch 17/30\n",
      "111/110 [==============================] - 85s 770ms/step - loss: 0.2784 - acc: 0.9069 - val_loss: 0.3220 - val_acc: 0.9012\n",
      "Epoch 18/30\n",
      "111/110 [==============================] - 85s 767ms/step - loss: 0.2496 - acc: 0.9156 - val_loss: 0.2616 - val_acc: 0.9099\n",
      "Epoch 19/30\n",
      "111/110 [==============================] - 85s 767ms/step - loss: 0.1938 - acc: 0.9276 - val_loss: 0.2553 - val_acc: 0.9165\n",
      "Epoch 20/30\n",
      "111/110 [==============================] - 86s 772ms/step - loss: 0.2218 - acc: 0.9258 - val_loss: 0.2707 - val_acc: 0.9129\n",
      "Epoch 21/30\n",
      "111/110 [==============================] - 85s 769ms/step - loss: 0.1920 - acc: 0.9328 - val_loss: 0.2516 - val_acc: 0.9267\n",
      "Epoch 22/30\n",
      "111/110 [==============================] - 85s 769ms/step - loss: 0.1927 - acc: 0.9294 - val_loss: 0.2177 - val_acc: 0.9310\n",
      "Epoch 23/30\n",
      "111/110 [==============================] - 85s 764ms/step - loss: 0.1760 - acc: 0.9381 - val_loss: 0.3670 - val_acc: 0.8809\n",
      "Epoch 24/30\n",
      "111/110 [==============================] - 86s 774ms/step - loss: 0.1894 - acc: 0.9352 - val_loss: 0.2496 - val_acc: 0.9201\n",
      "Epoch 25/30\n",
      "111/110 [==============================] - 85s 768ms/step - loss: 0.1643 - acc: 0.9464 - val_loss: 0.2791 - val_acc: 0.9078\n",
      "Epoch 26/30\n",
      "111/110 [==============================] - 85s 765ms/step - loss: 0.1428 - acc: 0.9490 - val_loss: 0.2334 - val_acc: 0.9208\n",
      "Epoch 27/30\n",
      "111/110 [==============================] - 85s 769ms/step - loss: 0.1807 - acc: 0.9416 - val_loss: 0.2230 - val_acc: 0.9332\n",
      "Epoch 28/30\n",
      "111/110 [==============================] - 85s 766ms/step - loss: 0.1448 - acc: 0.9486 - val_loss: 0.2203 - val_acc: 0.9317\n",
      "Epoch 29/30\n",
      "111/110 [==============================] - 85s 768ms/step - loss: 0.1463 - acc: 0.9526 - val_loss: 0.2399 - val_acc: 0.9259\n",
      "Epoch 30/30\n",
      "111/110 [==============================] - 85s 768ms/step - loss: 0.1483 - acc: 0.9497 - val_loss: 0.2904 - val_acc: 0.8954\n"
     ]
    }
   ],
   "source": [
    "Nadam_history = model.fit_generator(\n",
    "        train_generator,\n",
    "        steps_per_epoch=(5522 / batchSize),\n",
    "        epochs=epochSize,\n",
    "        validation_data=validation_generator,\n",
    "        validation_steps=(1377 / batchSize))"
   ]
  },
  {
   "cell_type": "code",
   "execution_count": 52,
   "metadata": {},
   "outputs": [
    {
     "data": {
      "text/plain": [
       "dict_keys(['val_loss', 'val_acc', 'loss', 'acc'])"
      ]
     },
     "execution_count": 52,
     "metadata": {},
     "output_type": "execute_result"
    }
   ],
   "source": [
    "Nadam_history.history.keys()"
   ]
  },
  {
   "cell_type": "code",
   "execution_count": 53,
   "metadata": {},
   "outputs": [],
   "source": [
    "Nadam_loss = Nadam_history.history['loss']\n",
    "Nadam_val_loss = Nadam_history.history['val_loss']\n",
    "Nadam_acc = Nadam_history.history['acc']\n",
    "Nadam_val_acc = Nadam_history.history['val_acc']\n",
    "Nadam_epochs = range(len(Nadam_acc))"
   ]
  },
  {
   "cell_type": "markdown",
   "metadata": {},
   "source": [
    "## Visualizing"
   ]
  },
  {
   "cell_type": "code",
   "execution_count": 54,
   "metadata": {},
   "outputs": [
    {
     "data": {
      "image/png": "[encoded data removed]",
      "text/plain": [
       "<Figure size 432x288 with 1 Axes>"
      ]
     },
     "metadata": {
      "needs_background": "light"
     },
     "output_type": "display_data"
    }
   ],
   "source": [
    "plt.plot(Nadam_epochs, Nadam_acc, 'red', label='Training Acc')\n",
    "plt.plot(Nadam_epochs, Nadam_val_acc, 'blue', label='Validation Acc')\n",
    "plt.xlabel('epochs')\n",
    "plt.ylabel('Acc')\n",
    "plt.legend()\n",
    "plt.show()"
   ]
  },
  {
   "cell_type": "code",
   "execution_count": 55,
   "metadata": {},
   "outputs": [
    {
     "data": {
      "image/png": "[encoded data removed]",
      "text/plain": [
       "<Figure size 432x288 with 1 Axes>"
      ]
     },
     "metadata": {
      "needs_background": "light"
     },
     "output_type": "display_data"
    }
   ],
   "source": [
    "plt.plot(Nadam_epochs, Nadam_loss, 'red', label='Training Loss')\n",
    "plt.plot(Nadam_epochs, Nadam_val_loss, 'blue', label='Validation Loss')\n",
    "plt.xlabel('epochs')\n",
    "plt.ylabel('Loss')\n",
    "plt.legend()\n",
    "plt.show()"
   ]
  },
  {
   "cell_type": "markdown",
   "metadata": {},
   "source": [
    "# END-OF-CODE"
   ]
  }
 ],
 "metadata": {
  "kernelspec": {
   "display_name": "Python 3",
   "language": "python",
   "name": "python3"
  },
  "language_info": {
   "codemirror_mode": {
    "name": "ipython",
    "version": 3
   },
   "file_extension": ".py",
   "mimetype": "text/x-python",
   "name": "python",
   "nbconvert_exporter": "python",
   "pygments_lexer": "ipython3",
   "version": "3.6.8"
  }
 },
 "nbformat": 4,
 "nbformat_minor": 1
}
